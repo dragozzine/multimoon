{
 "cells": [
  {
   "cell_type": "code",
   "execution_count": 16,
   "metadata": {},
   "outputs": [
    {
     "name": "stdout",
     "output_type": "stream",
     "text": [
      "brightness_ratio [ 12.          14.20408163  16.40816327  18.6122449   20.81632653\n",
      "  23.02040816  25.2244898   27.42857143  29.63265306  31.83673469\n",
      "  34.04081633  36.24489796  38.44897959  40.65306122  42.85714286\n",
      "  45.06122449  47.26530612  49.46938776  51.67346939  53.87755102\n",
      "  56.08163265  58.28571429  60.48979592  62.69387755  64.89795918\n",
      "  67.10204082  69.30612245  71.51020408  73.71428571  75.91836735\n",
      "  78.12244898  80.32653061  82.53061224  84.73469388  86.93877551\n",
      "  89.14285714  91.34693878  93.55102041  95.75510204  97.95918367\n",
      " 100.16326531 102.36734694 104.57142857 106.7755102  108.97959184\n",
      " 111.18367347 113.3877551  115.59183673 117.79591837 120.        ]\n"
     ]
    },
    {
     "ename": "NameError",
     "evalue": "name 'delta_vector' is not defined",
     "output_type": "error",
     "traceback": [
      "\u001b[0;31m---------------------------------------------------------------------------\u001b[0m",
      "\u001b[0;31mNameError\u001b[0m                                 Traceback (most recent call last)",
      "\u001b[0;32m<ipython-input-16-7996376df268>\u001b[0m in \u001b[0;36m<module>\u001b[0;34m\u001b[0m\n\u001b[1;32m     30\u001b[0m \u001b[0mbright_ratios\u001b[0m \u001b[0;34m=\u001b[0m \u001b[0malbedo_ratio\u001b[0m\u001b[0;34m*\u001b[0m\u001b[0mdensity_ratios\u001b[0m\u001b[0;34m\u001b[0m\u001b[0;34m\u001b[0m\u001b[0m\n\u001b[1;32m     31\u001b[0m \u001b[0mprint\u001b[0m\u001b[0;34m(\u001b[0m\u001b[0;34m'brightness_ratio'\u001b[0m\u001b[0;34m,\u001b[0m\u001b[0mbright_ratios\u001b[0m\u001b[0;34m)\u001b[0m\u001b[0;34m\u001b[0m\u001b[0;34m\u001b[0m\u001b[0m\n\u001b[0;32m---> 32\u001b[0;31m \u001b[0mdelta_offset\u001b[0m \u001b[0;34m=\u001b[0m \u001b[0mbright_ratios\u001b[0m\u001b[0;34m*\u001b[0m\u001b[0mdelta_vector\u001b[0m\u001b[0;34m\u001b[0m\u001b[0;34m\u001b[0m\u001b[0m\n\u001b[0m\u001b[1;32m     33\u001b[0m \u001b[0mpred_rel_astrometry\u001b[0m \u001b[0;34m=\u001b[0m \u001b[0mrel_pos_from_SPINNY\u001b[0m \u001b[0;34m-\u001b[0m \u001b[0mdelta_offset\u001b[0m\u001b[0;34m\u001b[0m\u001b[0;34m\u001b[0m\u001b[0m\n\u001b[1;32m     34\u001b[0m \u001b[0;34m\u001b[0m\u001b[0m\n",
      "\u001b[0;31mNameError\u001b[0m: name 'delta_vector' is not defined"
     ]
    }
   ],
   "source": [
    "import numpy as np\n",
    "import pandas as pd\n",
    "\n",
    "'''\n",
    "The brightness ratio of a planet to its satellite (bi/bs) is equal to their density ratio * their albedo ratio.\n",
    "This is because the albedo of a planet is the percentage of light reflected by the surface, and the density ratio\n",
    "is the mass ratio/volume ratio of the bodies. By changing the density ratio, but keeping the mass ratio of the objects,\n",
    "you can effectively increase or decrease the potential volume and thereby surface area of the satellite. You will need to define an albedo\n",
    "ratio constant. We can define the alebdo's of each object in the runprops.\n",
    "\n",
    "Then, the total delta offset potential of the object we are looking for equals the brightness_Ratio*delta_Vector\n",
    "(deltA_x, delta_Y)* brightness ratio\n",
    "the predicted_rel_astromtery = rel_pos_from_SPINNY - calc_delta_offset\n",
    "'''\n",
    "\n",
    "Eris_axis = 1163\n",
    "Herc_axis = 100\n",
    "volume_ratio = Eris_axis**3/Herc_axis**3\n",
    "Eris_m = 1.6e22\n",
    "Herc_m = 1.6e18\n",
    "mass_ratio = Eris_m/Herc_m\n",
    "density_ratio = mass_ratio/volume_ratio\n",
    "#print('Eris density', Eris_m/(1163000**3*4/3*np.pi)/1000)\n",
    "#print('Herc density', Herc_m/(100000**3*4/3*np.pi)/1000)\n",
    "#print(density_ratio, 'kg/m^3 or', density_ratio/1000, 'g/cm^3')\n",
    "density_ratios = np.linspace(0.5,5.0,50)\n",
    "Eris_albedo = 0.96\n",
    "Herc_albedo = 0.04\n",
    "albedo_ratio = Eris_albedo/Herc_albedo\n",
    "bright_ratios = albedo_ratio*density_ratios\n",
    "print('brightness_ratio',bright_ratios)\n",
    "delta_offset = bright_ratios*delta_vector\n",
    "pred_rel_astrometry = rel_pos_from_SPINNY - delta_offset\n",
    "\n",
    "'''\n",
    "Now compare the pred_rel_astrometry with the errors in the positions of Eris\n",
    "'''"
   ]
  },
  {
   "cell_type": "code",
   "execution_count": null,
   "metadata": {},
   "outputs": [],
   "source": []
  }
 ],
 "metadata": {
  "kernelspec": {
   "display_name": "mm_env",
   "language": "python",
   "name": "mm_env"
  },
  "language_info": {
   "codemirror_mode": {
    "name": "ipython",
    "version": 3
   },
   "file_extension": ".py",
   "mimetype": "text/x-python",
   "name": "python",
   "nbconvert_exporter": "python",
   "pygments_lexer": "ipython3",
   "version": "3.7.3"
  }
 },
 "nbformat": 4,
 "nbformat_minor": 4
}
