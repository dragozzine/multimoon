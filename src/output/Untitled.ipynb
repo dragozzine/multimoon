{
 "cells": [
  {
   "cell_type": "code",
   "execution_count": 10,
   "metadata": {},
   "outputs": [],
   "source": [
    "import numpy as np\n",
    "import pandas as pd\n",
    "import matplotlib.pyplot as plt\n",
    "import sys\n",
    "sys.path.insert(0,'..')\n",
    "import mm_relast\n",
    "from astroquery.jplhorizons import Horizons"
   ]
  },
  {
   "cell_type": "code",
   "execution_count": 51,
   "metadata": {},
   "outputs": [],
   "source": [
    "data = pd.read_csv('Dysnomia_SPINNY_Tue_May_28_15:10:41_2024.csv',index_col=0)\n",
    "data = pd.read_csv('Dysnomia_SPINNY_Tue_May_28_16:10:05_2024.csv',index_col=0)\n",
    "\n",
    "#print(data.columns)\n",
    "hercules = data[['Times','X_Pos_Hercules','Y_Pos_Hercules','Z_Pos_Hercules','X_Vel_Hercules','Y_Vel_Hercules','Z_Vel_Hercules']]\n",
    "\n",
    "x = np.zeros(len(hercules))\n",
    "y = np.zeros(len(hercules))\n",
    "z = np.zeros(len(hercules))\n",
    "for i in range(10):\n",
    "    obj = Horizons(id='Eris', location='500', epochs=hercules['Times'].iloc[i*int(len(hercules)/10):(i+1)*int(len(hercules)/10)].values/24/60/60+2453979.0)\n",
    "#print(obj)\n",
    "    vecs = obj.vectors()\n",
    "    x[i*int(len(hercules)/10):(i+1)*int(len(hercules)/10)] = vecs['x']\n",
    "    y[i*int(len(hercules)/10):(i+1)*int(len(hercules)/10)] = vecs['y']\n",
    "    z[i*int(len(hercules)/10):(i+1)*int(len(hercules)/10)] = vecs['z']\n",
    "\n",
    "\n",
    "obs_to_prim_pos = [x*1.496e8,y*1.496e8,z*1.496e8]\n",
    "prim_to_sat_pos = [hercules['X_Pos_Hercules'].values,hercules['Y_Pos_Hercules'].values,hercules['Z_Pos_Hercules'].values]\n",
    "\n",
    "deltaLong,deltaLat = mm_relast.convert_ecl_rel_pos_to_geo_rel_ast(obs_to_prim_pos, prim_to_sat_pos)\n",
    "#print(deltaLong,deltaLat)"
   ]
  },
  {
   "cell_type": "code",
   "execution_count": 52,
   "metadata": {},
   "outputs": [
    {
     "data": {
      "text/plain": [
       "<matplotlib.collections.PathCollection at 0x7fd7ca71cfd0>"
      ]
     },
     "execution_count": 52,
     "metadata": {},
     "output_type": "execute_result"
    },
    {
     "data": {
      "image/png": "[encoded data removed]",
      "text/plain": [
       "<Figure size 432x288 with 1 Axes>"
      ]
     },
     "metadata": {
      "needs_background": "light"
     },
     "output_type": "display_data"
    }
   ],
   "source": [
    "plt.scatter(deltaLong,deltaLat)"
   ]
  },
  {
   "cell_type": "code",
   "execution_count": 45,
   "metadata": {},
   "outputs": [
    {
     "name": "stdout",
     "output_type": "stream",
     "text": [
      "0          1.825231\n",
      "10        20.077546\n",
      "20        38.329861\n",
      "30        56.582176\n",
      "40        74.834491\n",
      "           ...     \n",
      "1950    3561.026620\n",
      "1960    3579.278935\n",
      "1970    3597.531250\n",
      "1980    3615.783565\n",
      "1990    3634.035880\n",
      "Name: Times, Length: 200, dtype: float64\n"
     ]
    }
   ],
   "source": [
    "print(hercules['Times']/60/60/24)"
   ]
  },
  {
   "cell_type": "code",
   "execution_count": 55,
   "metadata": {},
   "outputs": [
    {
     "data": {
      "text/plain": [
       "27.412966809013216"
      ]
     },
     "execution_count": 55,
     "metadata": {},
     "output_type": "execute_result"
    }
   ],
   "source": [
    "(37250/12354)**3"
   ]
  },
  {
   "cell_type": "code",
   "execution_count": 56,
   "metadata": {},
   "outputs": [
    {
     "data": {
      "text/plain": [
       "4.608495067581141e-06"
      ]
     },
     "execution_count": 56,
     "metadata": {},
     "output_type": "execute_result"
    }
   ],
   "source": [
    "2*np.pi/(15.78*24*60*60)"
   ]
  },
  {
   "cell_type": "code",
   "execution_count": 63,
   "metadata": {},
   "outputs": [
    {
     "name": "stdout",
     "output_type": "stream",
     "text": [
      "0.5537467541943679\n"
     ]
    }
   ],
   "source": [
    "volH = 4/3*np.pi*350**3\n",
    "volE = 4/3*np.pi*1163**3\n",
    "\n",
    "mE = 1.616e22\n",
    "mH = 9.8e18\n",
    "\n",
    "f = 7\n",
    "\n",
    "albedo_ratio = (volE/volH)**(2/3)*(mH/mE)**(2/3)*f\n",
    "print(albedo_ratio)"
   ]
  },
  {
   "cell_type": "code",
   "execution_count": 64,
   "metadata": {},
   "outputs": [
    {
     "data": {
      "text/plain": [
       "0.049978965952938444"
      ]
     },
     "execution_count": 64,
     "metadata": {},
     "output_type": "execute_result"
    }
   ],
   "source": [
    "260**2/1163**2"
   ]
  },
  {
   "cell_type": "code",
   "execution_count": null,
   "metadata": {},
   "outputs": [],
   "source": []
  }
 ],
 "metadata": {
  "kernelspec": {
   "display_name": "mm_env",
   "language": "python",
   "name": "mm_env"
  },
  "language_info": {
   "codemirror_mode": {
    "name": "ipython",
    "version": 3
   },
   "file_extension": ".py",
   "mimetype": "text/x-python",
   "name": "python",
   "nbconvert_exporter": "python",
   "pygments_lexer": "ipython3",
   "version": "3.7.3"
  }
 },
 "nbformat": 4,
 "nbformat_minor": 4
}
