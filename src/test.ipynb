{
 "cells": [
  {
   "cell_type": "code",
   "execution_count": 2,
   "metadata": {},
   "outputs": [
    {
     "name": "stdout",
     "output_type": "stream",
     "text": [
      "{'date': 'today', 'time': 'now', 'user': 'autogenerate', 'MultiMoon commit hash': 'autogenerate', 'mm_initguess_which': 'get_init_guess_from_dist', 'numobjects': 3, 'RunGoal': 'user puts their goal for this run here', 'objectname': 'Haumea', 'nwalkers': 30, 'nsteps': 1001, 'nthinning': 100}\n",
      "{'date': 'today', 'time': 'now', 'user': 'autogenerate', 'MultiMoon commit hash': 'autogenerate', 'mm_initguess_which': 'get_init_guess_from_dist', 'numobjects': 3, 'RunGoal': 'user puts their goal for this run here', 'objectname': 'Haumea', 'nwalkers': 30, 'nsteps': 1001, 'nthinning': 100}\n"
     ]
    }
   ],
   "source": [
    "import runprops\n",
    "import testsupport\n",
    "\n",
    "test = testsupport.test_runprops()\n",
    "print(test)\n",
    "print(runprops.runprops)\n"
   ]
  },
  {
   "cell_type": "code",
   "execution_count": null,
   "metadata": {},
   "outputs": [],
   "source": []
  }
 ],
 "metadata": {
  "kernelspec": {
   "display_name": "Python 3",
   "language": "python",
   "name": "python3"
  },
  "language_info": {
   "codemirror_mode": {
    "name": "ipython",
    "version": 3
   },
   "file_extension": ".py",
   "mimetype": "text/x-python",
   "name": "python",
   "nbconvert_exporter": "python",
   "pygments_lexer": "ipython3",
   "version": "3.7.4"
  }
 },
 "nbformat": 4,
 "nbformat_minor": 2
}
