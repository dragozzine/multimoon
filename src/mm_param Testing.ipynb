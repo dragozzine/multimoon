{
 "cells": [
  {
   "cell_type": "code",
   "execution_count": 10,
   "metadata": {},
   "outputs": [
    {
     "name": "stdout",
     "output_type": "stream",
     "text": [
      "Read the runprops.txt file\n",
      "         mass_1        mass_2         sma_2     ecc_2     aop_2      inc_2  \\\n",
      "0  1.596500e+22  7.881023e+20  11981.158795  0.020444  130.6589  55.626396   \n",
      "\n",
      "        lan_2      mea_2        mass_3         sma_3     ecc_3       aop_3  \\\n",
      "0  138.762082  26.924551  7.302359e+19  36807.464998  0.004682  300.009179   \n",
      "\n",
      "       inc_3       lan_3      mea_3  \n",
      "0  69.427994  119.663336  19.459082  \n",
      "         mass_1        mass_2         sma_2     ecc_2     aop_2      inc_2  \\\n",
      "0  1.596500e+22  7.881023e+20  11981.158795  0.020444  130.6589  55.626396   \n",
      "\n",
      "        lan_2      mea_2        mass_3         sma_3     ecc_3       aop_3  \\\n",
      "0  138.762082  26.924551  7.302359e+19  36807.464998  0.004682  300.009179   \n",
      "\n",
      "       inc_3       lan_3      mea_3  name_1  name_2  name_3  \n",
      "0  69.427994  119.663336  19.459082  Haumea  Hiiaka  Namaka  \n"
     ]
    }
   ],
   "source": [
    "import mm_param\n",
    "import pandas as pd\n",
    "import numpy as np\n",
    "import commentjson as json\n",
    "import mm_init_guess\n",
    "\n",
    "paramdf = pd.read_csv('Eris_synth_init_guess.csv')\n",
    "class ReadJson(object):\n",
    "    def __init__(self, filename):\n",
    "        print('Read the runprops.txt file')\n",
    "        self.data = json.load(open(filename))\n",
    "    def outProps(self):\n",
    "        return self.data\n",
    "\n",
    "getData = ReadJson('runprops.txt')\n",
    "runprops = getData.outProps()\n",
    "names_dict = runprops.get('names_dict')\n",
    "paramdf = mm_init_guess.mm_init_guess(runprops)\n",
    "\n",
    "print(paramdf)\n",
    "float_arr, float_names, fixed_df, total_df_names, fit_scale, fit_names = mm_param.from_param_df_to_fit_array(paramdf, runprops)\n",
    "#print(float_arr[0])\n",
    "\n",
    "untransform, fit_params = mm_param.from_fit_array_to_param_df(float_arr[0], float_names, fixed_df, total_df_names, fit_scale, names_dict, runprops)\n",
    "print(untransform)"
   ]
  },
  {
   "cell_type": "code",
   "execution_count": null,
   "metadata": {},
   "outputs": [],
   "source": []
  },
  {
   "cell_type": "code",
   "execution_count": null,
   "metadata": {},
   "outputs": [],
   "source": []
  }
 ],
 "metadata": {
  "kernelspec": {
   "display_name": "mm_env",
   "language": "python",
   "name": "mm_env"
  },
  "language_info": {
   "codemirror_mode": {
    "name": "ipython",
    "version": 3
   },
   "file_extension": ".py",
   "mimetype": "text/x-python",
   "name": "python",
   "nbconvert_exporter": "python",
   "pygments_lexer": "ipython3",
   "version": "3.7.3"
  }
 },
 "nbformat": 4,
 "nbformat_minor": 4
}
