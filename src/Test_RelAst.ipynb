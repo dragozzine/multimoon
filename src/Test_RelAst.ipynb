{
 "cells": [
  {
   "cell_type": "code",
   "execution_count": 19,
   "metadata": {},
   "outputs": [
    {
     "name": "stdout",
     "output_type": "stream",
     "text": [
      "0.0013698688278564225 -0.027894545681306226\n",
      "-0.0003937282419533065 -0.027905887930046447\n"
     ]
    }
   ],
   "source": [
    "import mm_relast\n",
    "import numpy as np\n",
    "from astropy import units as u\n",
    "\n",
    "primx1 = 400\n",
    "primy1 = 100\n",
    "primz1 = 300\n",
    "\n",
    "satx1 = 0.0002\n",
    "saty1 = 0.00025\n",
    "satz1 = 0.0001\n",
    "\n",
    "x1,y1,z1 = primx1, primy1, primz1\n",
    "x2,y2,z2 = primx1+satx1, primy1+saty1, primz1+satz1\n",
    "\n",
    "R1 = np.sqrt(x1**2+y1**2+z1**2)\n",
    "R2 = np.sqrt(x2**2+y2**2+z2**2)\n",
    "\n",
    "long1 = np.arctan2(y1,x1)\n",
    "lat1 = np.arcsin(z1/R1/np.cos(long1*u.degree))/u.rad*180/np.pi\n",
    "\n",
    "long2 = np.arctan2(y2,x2)\n",
    "lat2 = np.arcsin(z2/R2/np.cos(long2*u.degree))/u.rad*180/np.pi\n",
    "\n",
    "deltaLat = (lat2-lat1)\n",
    "deltaLong = (long2-long1)*np.cos(lat1*u.degree)\n",
    "\n",
    "print(deltaLong*3600, deltaLat*3600)\n",
    "\n",
    "long1 = np.arcsin(z1/R1)\n",
    "lat1 = np.arcsin(z1/R1/np.cos(long1*u.degree))/u.rad*180/np.pi\n",
    "\n",
    "long2 = np.arcsin(z2/R2)\n",
    "lat2 = np.arcsin(z2/R2/np.cos(long2*u.degree))/u.rad*180/np.pi\n",
    "\n",
    "deltaLat = (lat2-lat1)\n",
    "deltaLong = (long2-long1)*np.cos(lat1*u.degree)\n",
    "\n",
    "print(deltaLong*3600, deltaLat*3600)\n",
    "\n"
   ]
  },
  {
   "cell_type": "code",
   "execution_count": null,
   "metadata": {},
   "outputs": [],
   "source": []
  }
 ],
 "metadata": {
  "kernelspec": {
   "display_name": "Python 3",
   "language": "python",
   "name": "python3"
  },
  "language_info": {
   "codemirror_mode": {
    "name": "ipython",
    "version": 3
   },
   "file_extension": ".py",
   "mimetype": "text/x-python",
   "name": "python",
   "nbconvert_exporter": "python",
   "pygments_lexer": "ipython3",
   "version": "3.7.4"
  }
 },
 "nbformat": 4,
 "nbformat_minor": 2
}
