{
 "cells": [
  {
   "cell_type": "code",
   "execution_count": 6,
   "metadata": {},
   "outputs": [
    {
     "name": "stdout",
     "output_type": "stream",
     "text": [
      "-27.06290309817504 97.00586862934486\n"
     ]
    }
   ],
   "source": [
    "import mm_relast\n",
    "\n",
    "primx1 = 400\n",
    "primy1 = 100\n",
    "primz1 = 300\n",
    "\n",
    "satx1 = 0.2\n",
    "saty1 = 0.25\n",
    "satz1 = 0.1\n",
    "\n",
    "prim = [primx1,primy1,primz1]\n",
    "sat = [satx1,saty1,satz1]\n",
    "\n",
    "deltaLong, deltaLat = mm_relast.convert_ecl_rel_pos_to_geo_rel_ast(prim, sat)\n",
    "\n",
    "print(deltaLong, deltaLat)\n",
    "\n"
   ]
  },
  {
   "cell_type": "code",
   "execution_count": null,
   "metadata": {},
   "outputs": [],
   "source": []
  }
 ],
 "metadata": {
  "kernelspec": {
   "display_name": "Python 3",
   "language": "python",
   "name": "python3"
  },
  "language_info": {
   "codemirror_mode": {
    "name": "ipython",
    "version": 3
   },
   "file_extension": ".py",
   "mimetype": "text/x-python",
   "name": "python",
   "nbconvert_exporter": "python",
   "pygments_lexer": "ipython3",
   "version": "3.7.4"
  }
 },
 "nbformat": 4,
 "nbformat_minor": 2
}
