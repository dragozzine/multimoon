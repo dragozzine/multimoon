{
 "cells": [
  {
   "cell_type": "code",
   "execution_count": 5,
   "metadata": {},
   "outputs": [
    {
     "name": "stdout",
     "output_type": "stream",
     "text": [
      "77.13104542856371 -10.730086900613856\n"
     ]
    }
   ],
   "source": [
    "import mm_relast\n",
    "import numpy as np\n",
    "from astropy import units as u\n",
    "\n",
    "primx1 = 400\n",
    "primy1 = 100\n",
    "primz1 = 300\n",
    "\n",
    "satx1 = 0.2\n",
    "saty1 = 0.25\n",
    "satz1 = 0.1\n",
    "\n",
    "prim1 = [primx1,primy1]\n",
    "sat1 = [satx1,satx1]\n",
    "prim2 = [primx1,primy1,primz1]\n",
    "sat2 = [satx1,saty1,satz1]\n",
    "\n",
    "x11,y11 = prim1[0],prim1[1]\n",
    "x21,y21 = sat1[0],sat1[1]\n",
    "\n",
    "R11= np.sqrt(x11**2+y11**2)\n",
    "x22,y22 = x11+x21,y11+y21\n",
    "R21= np.sqrt(x21**2+y21**2)    \n",
    "\n",
    "x12,y12,z12 = prim2[0],prim2[1],prim2[2]\n",
    "    \n",
    "R12= np.sqrt(x12**2+y12**2+z12**2)    \n",
    "    \n",
    "x22,y22,z22 = sat22[0],sat22[1],sat22[2]\n",
    "    \n",
    "x22,y22,z22 = x12+x22,y12+y22,z12+z22\n",
    "    \n",
    "R22 = np.sqrt(x22**2+y22**2+z22**2)\n",
    "  \n",
    "    \n",
    "longitude11= np.arctan2(y11,x11)*180/np.pi\n",
    "latitude11= np.arcsin(z11/R11/np.cos(longitude11*u.degree))/u.rad*180/np.pi\n",
    "    \n",
    "longitude22= np.arctan2(y22,x22)*180/np.pi\n",
    "latitude22= np.arcsin(z22/R22/np.cos(longitude2*u.degree))/u.rad*180/np.pi    \n",
    "\n",
    "longitude12= np.arctan2(y12,x12)*180/np.pi\n",
    "latitude12= np.arcsin(z12/R12/np.cos(longitude1*u.degree))/u.rad*180/np.pi\n",
    "    \n",
    "longitude22= np.arctan2(y22,x22)*180/np.pi\n",
    "latitude22= np.arcsin(z22/R22/np.cos(longitude2*u.degree))/u.rad*180/np.pi\n",
    "    \n",
    "deltaLat2= (latitude22-latitude12)\n",
    "deltaLong2= (longitude22-longitude12)*np.cos(latitude12*u.degree)\n",
    "\n",
    "print(deltaLong2*3600, deltaLat2*3600)\n",
    "\n"
   ]
  },
  {
   "cell_type": "code",
   "execution_count": null,
   "metadata": {},
   "outputs": [],
   "source": []
  }
 ],
 "metadata": {
  "kernelspec": {
   "display_name": "Python 3",
   "language": "python",
   "name": "python3"
  },
  "language_info": {
   "codemirror_mode": {
    "name": "ipython",
    "version": 3
   },
   "file_extension": ".py",
   "mimetype": "text/x-python",
   "name": "python",
   "nbconvert_exporter": "python",
   "pygments_lexer": "ipython3",
   "version": "3.7.4"
  }
 },
 "nbformat": 4,
 "nbformat_minor": 2
}
