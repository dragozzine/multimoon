{
 "cells": [
  {
   "cell_type": "code",
   "execution_count": 16,
   "metadata": {},
   "outputs": [
    {
     "name": "stdout",
     "output_type": "stream",
     "text": [
      "[{'associatedUsername': 'sheila', 'city': 'Salt Lake City', 'country': 'United States', 'eventID': 'Sheila_Family_Map', 'eventType': 'started family map', 'latitude': 40.75, 'longitude': -110.1167, 'personID': 'Sheila_Parker', 'year': 2016}, {'associatedUsername': 'djspenc', 'city': 'Nashua', 'country': 'United States', 'eventID': 'dallin_birth', 'eventType': 'birth', 'latitude': 40.75, 'longitude': -110.1167, 'personID': 'heyooooo', 'year': 1997}, {'associatedUsername': 'sheila', 'city': 'Provo', 'country': 'United States', 'eventID': 'I_hate_formatting', 'eventType': 'fixed this thing', 'latitude': 40.2338, 'longitude': -111.6585, 'personID': 'Patrick_Spencer', 'year': 2017}]\n"
     ]
    }
   ],
   "source": [
    "import json\n",
    "import numpy as np\n",
    "\n",
    "file = open(\"test_json\")\n",
    "\n",
    "line = file.read()\n",
    "\n",
    "parsed_json = json.loads(line)\n",
    "\n",
    "formatted = json.dumps(parsed_json,indent=4, sort_keys=True)\n",
    "\n",
    "text_file = open(\"sample.txt\", \"w\")\n",
    "n = text_file.write(formatted)\n",
    "text_file.close()\n",
    "\n",
    "with open('personal.json', 'w') as json_file:\n",
    "    json.dump(formatted, json_file)\n",
    "    \n",
    "newfile = open(\"sample.txt\")\n",
    "thing = json.loads(newfile.read())\n",
    "\n",
    "print(thing.get(\"events\"))"
   ]
  },
  {
   "cell_type": "code",
   "execution_count": null,
   "metadata": {},
   "outputs": [],
   "source": []
  }
 ],
 "metadata": {
  "kernelspec": {
   "display_name": "Python 3",
   "language": "python",
   "name": "python3"
  },
  "language_info": {
   "codemirror_mode": {
    "name": "ipython",
    "version": 3
   },
   "file_extension": ".py",
   "mimetype": "text/x-python",
   "name": "python",
   "nbconvert_exporter": "python",
   "pygments_lexer": "ipython3",
   "version": "3.7.4"
  }
 },
 "nbformat": 4,
 "nbformat_minor": 2
}
