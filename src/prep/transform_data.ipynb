{
 "cells": [
  {
   "cell_type": "code",
   "execution_count": 2,
   "metadata": {},
   "outputs": [
    {
     "name": "stdout",
     "output_type": "stream",
     "text": [
      "[ 2.63920833  2.63745833  9.20654167  9.25045833  9.22416667  8.89045833\n",
      " 10.77791667 13.334125   15.561     ] [-8.04552778 -8.04236111 -5.19116667 -5.22069444 -5.30830556 -5.56486111\n",
      " -4.35964444 -3.61169444 -2.46627778]\n",
      "           time  Lat_Prim   Long_Prim  DeltaLat_Hiisi  DeltaLong_Hiisi  \\\n",
      "0  2.452252e+06 -8.425337  359.203588        0.043521        -0.007876   \n",
      "1  2.452253e+06 -8.421742  359.203270        0.009329         0.039463   \n",
      "2  2.452820e+06 -8.416388    6.399658        0.001736        -0.025173   \n",
      "3  2.452830e+06 -8.460839    6.428386        0.022465        -0.013159   \n",
      "4  2.452846e+06 -8.530841    6.368939       -0.005697         0.023243   \n",
      "5  2.452875e+06 -8.634287    5.957643       -0.028693         0.012412   \n",
      "6  2.453152e+06 -8.272809    8.185320       -0.014557        -0.027150   \n",
      "7  2.453595e+06 -8.587731   10.852222        0.006637         0.027051   \n",
      "8  2.453923e+06 -8.398790   13.373498        0.030518        -0.006047   \n",
      "\n",
      "   DeltaLat_Hiisi_err  DeltaLong_Hiisi_err  DeltaLat_Paha  DeltaLong_Paha  \\\n",
      "0            0.013473             0.017021       0.348254        0.154825   \n",
      "1            0.019605             0.013087       0.327880        0.185844   \n",
      "2            0.000937             0.000823       0.061015        0.322115   \n",
      "3            0.000812             0.000711      -0.189593        0.166141   \n",
      "4            0.001578             0.001428       0.035395       -0.156362   \n",
      "5            0.002160             0.002569      -0.084015        0.306374   \n",
      "6            0.001223             0.001638       0.191881       -0.073251   \n",
      "7            0.002790             0.002837      -0.241779       -0.129901   \n",
      "8            0.000579             0.001043       0.149018        0.342713   \n",
      "\n",
      "   DeltaLat_Paha_err  DeltaLong_Paha_err  \n",
      "0           0.008545            0.008890  \n",
      "1           0.008601            0.010391  \n",
      "2           0.000590            0.000774  \n",
      "3           0.000673            0.000408  \n",
      "4           0.000610            0.001285  \n",
      "5           0.001434            0.001479  \n",
      "6           0.001250            0.000707  \n",
      "7           0.002204            0.003005  \n",
      "8           0.001854            0.001840  \n"
     ]
    }
   ],
   "source": [
    "import latlon_transform\n",
    "import pandas as pd\n",
    "\n",
    "params = pd.read_csv('BennecchiData.csv')\n",
    "\n",
    "latlon_transform.convert_to_primary_centric(params, ['Lempo','Hiisi','Paha'],3,500)\n"
   ]
  },
  {
   "cell_type": "code",
   "execution_count": null,
   "metadata": {},
   "outputs": [],
   "source": []
  }
 ],
 "metadata": {
  "kernelspec": {
   "display_name": "mm_env",
   "language": "python",
   "name": "mm_env"
  },
  "language_info": {
   "codemirror_mode": {
    "name": "ipython",
    "version": 3
   },
   "file_extension": ".py",
   "mimetype": "text/x-python",
   "name": "python",
   "nbconvert_exporter": "python",
   "pygments_lexer": "ipython3",
   "version": "3.7.3"
  }
 },
 "nbformat": 4,
 "nbformat_minor": 4
}
