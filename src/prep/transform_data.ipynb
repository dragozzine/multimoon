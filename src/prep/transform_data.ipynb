{
 "cells": [
  {
   "cell_type": "code",
   "execution_count": 1,
   "metadata": {},
   "outputs": [
    {
     "name": "stdout",
     "output_type": "stream",
     "text": [
      "[ 2.63920833  2.63745833  9.20654167  9.25045833  9.22416667  8.89045833\n",
      " 10.77791667 13.334125   15.561     ] [-8.04552778 -8.04236111 -5.19116667 -5.22069444 -5.30830556 -5.56486111\n",
      " -4.35964444 -3.61169444 -2.46627778]\n",
      "           time  Lat_Prim   Long_Prim  DeltaLat_Hiisi  DeltaLong_Hiisi  \\\n",
      "0  2.452252e+06 -8.425337  359.203588        0.043521        -0.007876   \n",
      "1  2.452253e+06 -8.421742  359.203270        0.009329         0.039463   \n",
      "2  2.452820e+06 -8.416388    6.399658        0.001736        -0.025173   \n",
      "3  2.452830e+06 -8.460839    6.428386        0.022465        -0.013159   \n",
      "4  2.452846e+06 -8.530841    6.368939       -0.005697         0.023243   \n",
      "5  2.452875e+06 -8.634287    5.957643       -0.028693         0.012412   \n",
      "6  2.453152e+06 -8.272809    8.185320       -0.014557        -0.027150   \n",
      "7  2.453595e+06 -8.587731   10.852222        0.006637         0.027051   \n",
      "8  2.453923e+06 -8.398790   13.373498        0.030518        -0.006047   \n",
      "\n",
      "   DeltaLat_Hiisi_err  DeltaLong_Hiisi_err  DeltaLat_Paha  DeltaLong_Paha  \\\n",
      "0            0.014268             0.016861       0.348254        0.154825   \n",
      "1            0.021280             0.014304       0.327880        0.185844   \n",
      "2            0.000987             0.000826       0.061015        0.322115   \n",
      "3            0.000759             0.000686      -0.189593        0.166141   \n",
      "4            0.001583             0.001417       0.035395       -0.156362   \n",
      "5            0.002144             0.002590      -0.084015        0.306374   \n",
      "6            0.001313             0.001723       0.191881       -0.073251   \n",
      "7            0.002915             0.002907      -0.241779       -0.129901   \n",
      "8            0.000574             0.001107       0.149018        0.342713   \n",
      "\n",
      "   DeltaLat_Paha_err  DeltaLong_Paha_err  \n",
      "0           0.008478            0.008438  \n",
      "1           0.009445            0.011150  \n",
      "2           0.000586            0.000853  \n",
      "3           0.000659            0.000387  \n",
      "4           0.000609            0.001322  \n",
      "5           0.001375            0.001553  \n",
      "6           0.001209            0.000726  \n",
      "7           0.002265            0.002959  \n",
      "8           0.001862            0.001913  \n"
     ]
    }
   ],
   "source": [
    "import latlon_transform\n",
    "import pandas as pd\n",
    "\n",
    "params = pd.read_csv('BennecchiData.csv')\n",
    "\n",
    "latlon_transform.convert_to_primary_centric(params, ['Lempo','Hiisi','Paha'],3,500)\n"
   ]
  },
  {
   "cell_type": "code",
   "execution_count": null,
   "metadata": {},
   "outputs": [],
   "source": []
  }
 ],
 "metadata": {
  "kernelspec": {
   "display_name": "mm_env",
   "language": "python",
   "name": "mm_env"
  },
  "language_info": {
   "codemirror_mode": {
    "name": "ipython",
    "version": 3
   },
   "file_extension": ".py",
   "mimetype": "text/x-python",
   "name": "python",
   "nbconvert_exporter": "python",
   "pygments_lexer": "ipython3",
   "version": "3.7.3"
  }
 },
 "nbformat": 4,
 "nbformat_minor": 4
}
