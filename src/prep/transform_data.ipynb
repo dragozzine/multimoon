{
 "cells": [
  {
   "cell_type": "code",
   "execution_count": 1,
   "metadata": {},
   "outputs": [
    {
     "name": "stdout",
     "output_type": "stream",
     "text": [
      "[ 4.23819  4.24048  7.48155  7.53726  7.62846  7.79333  9.38176 11.92961\n",
      " 13.81975] [-7.28529 -7.28434 -5.92316 -5.89952 -5.86081 -5.79076 -5.1126  -4.01355\n",
      " -3.19072]\n",
      "           time  Lat_Prim  Long_Prim  DeltaLat_Hiisi  DeltaLong_Hiisi  \\\n",
      "0  2.452252e+06 -8.365019   0.978783        0.043514        -0.007911   \n",
      "1  2.452253e+06 -8.365059   0.981271        0.009360         0.039456   \n",
      "2  2.452820e+06 -8.404956   4.513439        0.001784        -0.025170   \n",
      "3  2.452830e+06 -8.405365   4.574324        0.022489        -0.013118   \n",
      "4  2.452846e+06 -8.406021   4.674004       -0.005735         0.023234   \n",
      "5  2.452875e+06 -8.407125   4.854247       -0.028705         0.012385   \n",
      "6  2.453152e+06 -8.413517   6.593066       -0.014502        -0.027179   \n",
      "7  2.453595e+06 -8.407421   9.389832        0.006579         0.027065   \n",
      "8  2.453923e+06 -8.389818  11.469609        0.030538        -0.005944   \n",
      "\n",
      "   DeltaLat_Hiisi_err  DeltaLong_Hiisi_err  DeltaLat_Paha  DeltaLong_Paha  \\\n",
      "0           -0.000959            -0.001746       0.348377        0.154546   \n",
      "1           -0.001628            -0.000268       0.328028        0.185582   \n",
      "2           -0.000006             0.000080       0.060403        0.322231   \n",
      "3           -0.000011            -0.000002      -0.189900        0.165791   \n",
      "4            0.000011             0.000066       0.035652       -0.156304   \n",
      "5            0.000193            -0.000075      -0.084310        0.306294   \n",
      "6            0.000048            -0.000008       0.192029       -0.072864   \n",
      "7           -0.000042             0.000053      -0.241500       -0.130419   \n",
      "8           -0.000031             0.000065       0.147869        0.343211   \n",
      "\n",
      "   DeltaLat_Paha_err  DeltaLong_Paha_err  \n",
      "0           0.000599            0.000723  \n",
      "1           0.000296           -0.000101  \n",
      "2           0.000028            0.000009  \n",
      "3           0.000010           -0.000005  \n",
      "4          -0.000002            0.000007  \n",
      "5           0.000042           -0.000077  \n",
      "6           0.000058            0.000006  \n",
      "7          -0.000151            0.000286  \n",
      "8          -0.000006           -0.000150  \n"
     ]
    }
   ],
   "source": [
    "import latlon_transform\n",
    "import pandas as pd\n",
    "\n",
    "params = pd.read_csv('BennecchiData.csv')\n",
    "\n",
    "latlon_transform.convert_to_primary_centric(params, ['Lempo','Hiisi','Paha'],3,200)\n"
   ]
  },
  {
   "cell_type": "code",
   "execution_count": null,
   "metadata": {},
   "outputs": [],
   "source": []
  }
 ],
 "metadata": {
  "kernelspec": {
   "display_name": "mm_env",
   "language": "python",
   "name": "mm_env"
  },
  "language_info": {
   "codemirror_mode": {
    "name": "ipython",
    "version": 3
   },
   "file_extension": ".py",
   "mimetype": "text/x-python",
   "name": "python",
   "nbconvert_exporter": "python",
   "pygments_lexer": "ipython3",
   "version": "3.7.3"
  }
 },
 "nbformat": 4,
 "nbformat_minor": 4
}
