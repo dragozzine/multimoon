{
 "cells": [
  {
   "cell_type": "code",
   "execution_count": 10,
   "metadata": {},
   "outputs": [
    {
     "name": "stdout",
     "output_type": "stream",
     "text": [
      "       kboTIME               x                y               z\n",
      "0 2459453.5357 -840519899.4221 -6351726274.2890 2502949098.5004\n",
      "[262.97735] [-1.91746]\n",
      "[262.97730882] 1 [0.003] 1\n",
      "           time   Lat_Prim   Long_Prim  DeltaLat_Secondary  \\\n",
      "0  2.459454e+06  21.338246  262.457987           -0.012668   \n",
      "\n",
      "   DeltaLong_Secondary  DeltaLat_Secondary_err  DeltaLong_Secondary_err  \n",
      "0             -0.14769                0.002926                 0.003146  \n",
      "       kboTIME               x                y              z\n",
      "0 2457991.6024 -166157358.7053 -6290740595.8107 881140415.5799\n",
      "[268.44533] [-15.46031]\n",
      "[268.44528352] 1 [0.00234] 1\n",
      "           time  Lat_Prim  Long_Prim  DeltaLat_Secondary  DeltaLong_Secondary  \\\n",
      "0  2.457992e+06  7.970807  268.48311            0.178842            -0.163239   \n",
      "\n",
      "   DeltaLat_Secondary_err  DeltaLong_Secondary_err  \n",
      "0                0.005956                 0.002375  \n",
      "       kboTIME               x               y              z\n",
      "0 2458884.6199 1997700930.0873 6486994865.6345 593845202.6250\n",
      "[70.73422] [27.30177]\n",
      "[70.73427627] 1 [0.003] 1\n",
      "           time  Lat_Prim  Long_Prim  DeltaLat_Secondary  DeltaLong_Secondary  \\\n",
      "0  2.458885e+06  5.000061  72.879657           -0.089696             0.169672   \n",
      "\n",
      "   DeltaLat_Secondary_err  DeltaLong_Secondary_err  \n",
      "0                0.003122                 0.002679  \n",
      "       kboTIME                x               y                z\n",
      "0 2459453.6058 -6583039320.4200 2109626610.5616 -2437866036.0191\n",
      "[156.1869] [-10.99115]\n",
      "[156.1868783] 1 [0.00223] 1\n",
      "           time  Lat_Prim   Long_Prim  DeltaLat_Secondary  \\\n",
      "0  2.459454e+06 -19.42562  162.227393           -0.145015   \n",
      "\n",
      "   DeltaLong_Secondary  DeltaLat_Secondary_err  DeltaLong_Secondary_err  \n",
      "0            -0.022451                0.001212                 0.002125  \n",
      "       kboTIME               x               y               z\n",
      "0 2456491.8651 4821399911.2721 3861380499.0531 -475783187.6744\n",
      "1 2456492.8730 4818832277.6284 3860501450.8891 -475910424.5591\n",
      "2 2456590.6215 4733334822.3489 3672038815.3210 -488252447.4738\n",
      "[37.74161 37.75077 36.9723 ] [10.22205 10.2219   9.69981]\n",
      "[37.7416449  37.75078752 36.9723001 ] 3 [0.1     0.00695 0.00265] 3\n",
      "           time  Lat_Prim  Long_Prim  DeltaLat_Secondary  DeltaLong_Secondary  \\\n",
      "0  2.456492e+06 -4.404408  38.686775           -0.077685             0.104467   \n",
      "1  2.456493e+06 -4.407394  38.695307           -0.126004             0.023523   \n",
      "2  2.456591e+06 -4.659359  37.799773           -0.094763            -0.031499   \n",
      "\n",
      "   DeltaLat_Secondary_err  DeltaLong_Secondary_err  \n",
      "0                0.101150                 0.097131  \n",
      "1                0.008303                 0.007398  \n",
      "2                0.005919                 0.003201  \n",
      "       kboTIME               x                y               z\n",
      "0 2457991.6605 5690802420.2098 -1623727313.2851 -118629011.6661\n",
      "1 2459453.6967 5830051367.1445 -1038054733.5163 -142530109.6335\n",
      "[345.77573 351.26558] [-7.32546 -5.26626]\n",
      "[345.77575875 351.26555379] 2 [0.00248 0.005  ] 2\n",
      "           time  Lat_Prim   Long_Prim  DeltaLat_Secondary  \\\n",
      "0  2.457992e+06 -1.148329  344.071324           -0.033194   \n",
      "1  2.459454e+06 -1.378737  349.900236           -0.026813   \n",
      "\n",
      "   DeltaLong_Secondary  DeltaLat_Secondary_err  DeltaLong_Secondary_err  \n",
      "0             0.097382                0.005360                 0.003225  \n",
      "1            -0.113653                0.005025                 0.004808  \n",
      "       kboTIME                x               y              z\n",
      "0 2456373.8697 -2652983234.9608 -506562666.1757 -38138618.1004\n",
      "[189.61822] [-5.02261]\n",
      "[189.61819546] 1 [0.003] 1\n",
      "           time  Lat_Prim   Long_Prim  DeltaLat_Secondary  \\\n",
      "0  2.456374e+06 -0.808935  190.805972           -0.054657   \n",
      "\n",
      "   DeltaLong_Secondary  DeltaLat_Secondary_err  DeltaLong_Secondary_err  \n",
      "0             -0.07235                0.003057                 0.002891  \n"
     ]
    }
   ],
   "source": [
    "import latlon_transform\n",
    "import pandas as pd\n",
    "\n",
    "params = pd.read_csv('Varda.csv')\n",
    "\n",
    "latlon_transform.convert_to_primary_centric(params, ['Varda','Secondary'],2,500)\n",
    "params = pd.read_csv('Quaoar.csv')\n",
    "\n",
    "latlon_transform.convert_to_primary_centric(params, ['Quaoar','Secondary'],2,500)\n",
    "\n",
    "params = pd.read_csv('Altjira.csv')\n",
    "\n",
    "latlon_transform.convert_to_primary_centric(params, ['Altjira','Secondary'],2,500)\n",
    "\n",
    "params = pd.read_csv('Orcus.csv')\n",
    "\n",
    "latlon_transform.convert_to_primary_centric(params, ['Orcus','Secondary'],2,500)\n",
    "\n",
    "params = pd.read_csv('2002_UX25.csv')\n",
    "\n",
    "latlon_transform.convert_to_primary_centric(params, ['2002 UX25','Secondary'],2,500)\n",
    "\n",
    "params = pd.read_csv('1999_RT214.csv')\n",
    "\n",
    "latlon_transform.convert_to_primary_centric(params, ['1999 RT214','Secondary'],2,500)\n",
    "\n",
    "params = pd.read_csv('2002_CR46.csv')\n",
    "\n",
    "latlon_transform.convert_to_primary_centric(params, ['2002 CR46','Secondary'],2,500)\n"
   ]
  },
  {
   "cell_type": "code",
   "execution_count": 11,
   "metadata": {},
   "outputs": [
    {
     "name": "stdout",
     "output_type": "stream",
     "text": [
      "       kboTIME               x              y               z\n",
      "0 2459453.6332 5992943566.3173 695584344.2974 2726202126.1397\n",
      "[355.74155] [24.80895]\n",
      "[355.74152654] 1 [0.00223] 1\n",
      "           time   Lat_Prim  Long_Prim  DeltaLat_Secondary  \\\n",
      "0  2.459454e+06  24.316765   6.616627            -0.07927   \n",
      "\n",
      "   DeltaLong_Secondary  DeltaLat_Secondary_err  DeltaLong_Secondary_err  \n",
      "0            -0.123489                0.001237                 0.002085  \n"
     ]
    }
   ],
   "source": [
    "params = pd.read_csv('Salacia.csv')\n",
    "\n",
    "latlon_transform.convert_to_primary_centric(params, ['Salacia','Secondary'],2,500)\n"
   ]
  },
  {
   "cell_type": "code",
   "execution_count": null,
   "metadata": {},
   "outputs": [],
   "source": []
  }
 ],
 "metadata": {
  "kernelspec": {
   "display_name": "mm_env",
   "language": "python",
   "name": "mm_env"
  },
  "language_info": {
   "codemirror_mode": {
    "name": "ipython",
    "version": 3
   },
   "file_extension": ".py",
   "mimetype": "text/x-python",
   "name": "python",
   "nbconvert_exporter": "python",
   "pygments_lexer": "ipython3",
   "version": "3.7.3"
  }
 },
 "nbformat": 4,
 "nbformat_minor": 4
}
