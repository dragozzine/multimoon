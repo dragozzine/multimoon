{
 "cells": [
  {
   "cell_type": "code",
   "execution_count": 4,
   "metadata": {},
   "outputs": [
    {
     "name": "stdout",
     "output_type": "stream",
     "text": [
      "N/A input for column:  j2r2_1  in priors dataframe.\n",
      "N/A input for column:  c22r2_1  in priors dataframe.\n",
      "N/A input for column:  spaop_1  in priors dataframe.\n",
      "N/A input for column:  spinc_1  in priors dataframe.\n",
      "N/A input for column:  splan_1  in priors dataframe.\n",
      "N/A input for column:  sprate_1  in priors dataframe.\n",
      "-6.9740862131907955\n"
     ]
    }
   ],
   "source": [
    "import pandas as pd\n",
    "import numpy as np\n",
    "import mm_priors\n",
    "\n",
    "priors = pd.read_csv('priors_test_df.csv',sep='\\t',index_col=0)\n",
    "params = pd.read_csv('params_test_df.csv',sep='\\t', index_col=0)\n",
    "\n",
    "logprob = mm_priors.mm_priors(priors,params)\n",
    "print(logprob)\n"
   ]
  },
  {
   "cell_type": "code",
   "execution_count": null,
   "metadata": {},
   "outputs": [],
   "source": []
  }
 ],
 "metadata": {
  "kernelspec": {
   "display_name": "Python 3",
   "language": "python",
   "name": "python3"
  },
  "language_info": {
   "codemirror_mode": {
    "name": "ipython",
    "version": 3
   },
   "file_extension": ".py",
   "mimetype": "text/x-python",
   "name": "python",
   "nbconvert_exporter": "python",
   "pygments_lexer": "ipython3",
   "version": "3.7.4"
  }
 },
 "nbformat": 4,
 "nbformat_minor": 2
}
