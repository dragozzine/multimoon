{
 "cells": [
  {
   "cell_type": "code",
   "execution_count": 1,
   "metadata": {
    "scrolled": false
   },
   "outputs": [
    {
     "name": "stdout",
     "output_type": "stream",
     "text": [
      "gzip was not found on your system! You should solve this issue for astroquery.eso to be at its best!\n",
      "On POSIX system: make sure gzip is installed and in your path!On Windows: same for 7-zip (http://www.7-zip.org)!\n"
     ]
    }
   ],
   "source": [
    "from astroquery.jplhorizons import Horizons\n",
    "import numpy as np\n",
    "import pandas as pd\n",
    "from astropy.time import Time\n",
    "import time\n",
    "\n",
    "\n",
    "def makeHorFile(objectName):\n",
    "    \"\"\"This function takes a name of a solar system body(a KBO), and creates a csv file of the body's ephemerides\"\"\"\n",
    "    starttime = time.time()\n",
    "    \n",
    "    ourKBO = Horizons(id=objectName,location=399,epochs = {'start':'1990-01-01','stop':'2030-01-01','step':'1d'})\n",
    "    ephKBO = ourKBO.ephemerides()['RA','DEC','datetime_jd']\n",
    "    vecKBO = ourKBO.vectors()['lighttime','x','y','z']\n",
    "    \n",
    "    jdTime= ephKBO['datetime_jd']\n",
    "    lightTime = vecKBO['lighttime']\n",
    "    kboTime=jdTime-lightTime\n",
    "    \n",
    "    geocentricFile = pd.DataFrame({'geocentricTime':ephKBO['datetime_jd'],'x':vecKBO['x'],'y':vecKBO['y'],'z':vecKBO['z']})\n",
    "    outFile = pd.DataFrame({'kboTIME':kboTime,'x':vecKBO['x'],'y':vecKBO['y'],'z':vecKBO['z']})\n",
    "    \n",
    "    filename1 = objectName+'Data_geoTime.csv'\n",
    "    geocentricFile.to_csv(filename1)\n",
    "    fileName2 = objectName+'Data_KBOtime.csv'\n",
    "    outFile.to_csv(fileName2)\n",
    "    \n",
    "    endtime = time.time()\n",
    "    \n",
    "    runLength = endtime-starttime\n",
    "    print(\"Runtime was: \"+str(runLength)+\" seconds\" )\n",
    "    \n",
    "'''\n",
    "    NAME:\n",
    "         geotoKBOtime\n",
    "         \n",
    "    PURPOSE:\n",
    "         Given the name of an object, this function will open a file bearing that object's name,\n",
    "         and converts the julian data in that file to Heliocentric JD.\n",
    "         \n",
    "    CALLING SEQUENCE:\n",
    "         geotoKBOtime(objectName)\n",
    "   \n",
    "    INPUTS\n",
    "          objectName - The name of the KBO (or Horizons id). The name has 2 rules.\n",
    "          1) The name is searchable in JPL Horizons\n",
    "          2) The name is the beginning of a file titled \"Data_geoTime.csv\" in the same directory\n",
    "          \n",
    "    OUTPUTS:\n",
    "          No functions outputs, but does create a new csv file for the object given.\n",
    "'''\n",
    "def geotoKBOtime(objectName):\n",
    "    starttime = time.time()\n",
    "    theFile = objectName+'Data_geoTime.csv'\n",
    "    \n",
    "    oldData = pd.read_csv(theFile)\n",
    "    date = oldData['Dates']\n",
    "    \n",
    "    date1 = date.iloc[0]\n",
    "    date2 = date.iloc[-1]\n",
    "    \n",
    "    jddate1 = Time(date1,format='jd')\n",
    "    jddate2 = Time(date2,format='jd')\n",
    "    \n",
    "    dateList = []\n",
    "    \n",
    "    for i in date:\n",
    "        dateList.append(Time(i,format='jd'))\n",
    "                        \n",
    "    theObject = Horizons(id=objectName, location = 399,epochs=dateList)\n",
    "    vecObj = theObject.vectors()['lighttime']\n",
    "    \n",
    "    kboTime=date-vecObj\n",
    "    \n",
    "    \n",
    "    newData = oldData\n",
    "    newData['Dates'] = kboTime\n",
    "    \n",
    "    newData=newData.rename(columns = {'Dates':'datetime_jd'})\n",
    "    \n",
    "    outFile = objectName+'Data_KBOTime.csv'\n",
    "   \n",
    "    newData.to_csv(outFile)\n",
    "    \n",
    "    endtime = time.time()\n",
    "    \n",
    "    runLength = endtime-starttime\n",
    "    print(\"Runtime was: \"+str(runLength)+\" seconds\" )\n",
    "    "
   ]
  },
  {
   "cell_type": "code",
   "execution_count": 2,
   "metadata": {},
   "outputs": [
    {
     "name": "stdout",
     "output_type": "stream",
     "text": [
      "Runtime was: 101.12780523300171 seconds\n"
     ]
    }
   ],
   "source": [
    "makeHorFile('Lempo')"
   ]
  },
  {
   "cell_type": "code",
   "execution_count": 12,
   "metadata": {},
   "outputs": [],
   "source": [
    "Lempo = Horizons(id='Lempo',location=399,epochs = {'start':'1990-01-01','stop':'2030-01-01','step':'1d'})\n",
    "Haumea = Horizons(id='Haumea',location=399,epochs = {'start':'1990-01-01','stop':'2030-01-01','step':'1d'})\n",
    "\n",
    "time = Lempo.ephemerides()['datetime_jd']\n",
    "xdata = Lempo.vectors()['x']\n",
    "ydata = Lempo.vectors()['y']\n",
    "zdata = Lempo.vectors()['z']\n",
    "dfLempo = pd.DataFrame({'time':time,'xdata':xdata, 'ydata':ydata, 'zdata':zdata})\n",
    "\n",
    "dfLempo.to_csv('LempoDataxyz.csv')\n",
    "\n",
    "time = Haumea.ephemerides()['datetime_jd']\n",
    "xdata = Haumea.vectors()['x']\n",
    "ydata = Haumea.vectors()['y']\n",
    "zdata = Haumea.vectors()['z']\n",
    "dfHaumea = pd.DataFrame({'time':time, 'xdata':xdata, 'ydata':ydata,'zdata': zdata})\n",
    "\n",
    "dfHaumea.to_csv('HaumeaDataxyz.csv')\n",
    "\n"
   ]
  },
  {
   "cell_type": "code",
   "execution_count": null,
   "metadata": {},
   "outputs": [],
   "source": []
  }
 ],
 "metadata": {
  "kernelspec": {
   "display_name": "Python 3",
   "language": "python",
   "name": "python3"
  },
  "language_info": {
   "codemirror_mode": {
    "name": "ipython",
    "version": 3
   },
   "file_extension": ".py",
   "mimetype": "text/x-python",
   "name": "python",
   "nbconvert_exporter": "python",
   "pygments_lexer": "ipython3",
   "version": "3.7.4"
  }
 },
 "nbformat": 4,
 "nbformat_minor": 2
}
