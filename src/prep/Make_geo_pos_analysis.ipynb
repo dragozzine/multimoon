{
 "cells": [
  {
   "cell_type": "code",
   "execution_count": 5,
   "metadata": {},
   "outputs": [
    {
     "name": "stdout",
     "output_type": "stream",
     "text": [
      "/home/byu.local/djspenc/research/multimoon/src\n"
     ]
    }
   ],
   "source": [
    "import numpy as np\n",
    "import pandas as pd\n",
    "from astropy.time import Time\n",
    "import commentjson as json\n",
    "import os\n",
    "\n",
    "if 'prep' in os.getcwd():\n",
    "    os.chdir('../')\n",
    "print(os.getcwd())\n",
    "import mm_make_geo_pos\n",
    "\n",
    "# Astrometry plots\n",
    "def build_geo_analysis(objname, run_name):\n",
    "    class ReadJson(object):\n",
    "        def __init__(self, filename):\n",
    "            print('Read the runprops.txt file')\n",
    "            self.data = json.load(open(filename))\n",
    "        def outProps(self):\n",
    "            return self.data\n",
    "    getData = ReadJson('../runs/'+objname+'/'+run_name+'/runprops.txt')\n",
    "    runprops = getData.outProps()\n",
    "    \n",
    "    obsdf = pd.read_csv('../runs/'+objname+'/'+run_name+'/'+objname+'_obs_df.csv')\n",
    "    \n",
    "    time_arr = obsdf['time'].values.flatten()\n",
    "    tmin = time_arr.min()\n",
    "    tmax = time_arr.max()\n",
    "\n",
    "    converttimes = [tmin,tmax]\n",
    "    t = Time(converttimes, format = 'jd')\n",
    "\n",
    "    timesdic = {'start': t.isot[0], 'stop': t.isot[1], 'step': '6h'}\n",
    "    geo_obj_pos = mm_make_geo_pos.mm_make_geo_pos(objname, timesdic, runprops, True)\n",
    "\n",
    "    geo_obj_pos.to_csv('../runs/'+objname+'/'+run_name+'/geocentric_'+objname+'_position_analysis.csv')\n"
   ]
  },
  {
   "cell_type": "code",
   "execution_count": 7,
   "metadata": {},
   "outputs": [
    {
     "name": "stdout",
     "output_type": "stream",
     "text": [
      "Read the runprops.txt file\n"
     ]
    }
   ],
   "source": [
    "build_geo_analysis('Orcus','10_offset')"
   ]
  },
  {
   "cell_type": "code",
   "execution_count": null,
   "metadata": {},
   "outputs": [],
   "source": []
  }
 ],
 "metadata": {
  "kernelspec": {
   "display_name": "mm_env",
   "language": "python",
   "name": "mm_env"
  },
  "language_info": {
   "codemirror_mode": {
    "name": "ipython",
    "version": 3
   },
   "file_extension": ".py",
   "mimetype": "text/x-python",
   "name": "python",
   "nbconvert_exporter": "python",
   "pygments_lexer": "ipython3",
   "version": "3.7.3"
  }
 },
 "nbformat": 4,
 "nbformat_minor": 4
}
