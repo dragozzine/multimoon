{
 "cells": [
  {
   "cell_type": "code",
   "execution_count": 19,
   "metadata": {},
   "outputs": [
    {
     "name": "stdout",
     "output_type": "stream",
     "text": [
      "/home/byu.local/djspenc/research/multimoon/src\n"
     ]
    }
   ],
   "source": [
    "import numpy as np\n",
    "import pandas as pd\n",
    "from astropy.time import Time\n",
    "import commentjson as json\n",
    "import os\n",
    "\n",
    "if 'prep' in os.getcwd():\n",
    "    os.chdir('../')\n",
    "print(os.getcwd())\n",
    "import mm_make_geo_pos\n",
    "\n",
    "# Astrometry plots\n",
    "def build_geo_analysis(flname, objname, run_name):\n",
    "    class ReadJson(object):\n",
    "        def __init__(self, filename):\n",
    "            print('Read the runprops.txt file')\n",
    "            self.data = json.load(open(filename))\n",
    "        def outProps(self):\n",
    "            return self.data\n",
    "    getData = ReadJson('../runs/'+flname+'/'+run_name+'/runprops.txt')\n",
    "    runprops = getData.outProps()\n",
    "    \n",
    "    obsdf = pd.read_csv('../runs/'+flname+'/observations/'+flname+'_obs_df.csv')\n",
    "    \n",
    "    time_arr = obsdf['time'].values.flatten()\n",
    "    tmin = time_arr.min()+4000\n",
    "    tmax = time_arr.max()\n",
    "\n",
    "    converttimes = [tmin,tmax]\n",
    "    t = Time(converttimes, format = 'jd')\n",
    "\n",
    "    timesdic = {'start': t.isot[0], 'stop': t.isot[1], 'step': '3h'}\n",
    "    geo_obj_pos = mm_make_geo_pos.mm_make_geo_pos(objname, timesdic, runprops, True)\n",
    "\n",
    "    #geo_obj_pos.to_csv('../runs/'+objname+'/'+run_name+'/geocentric_'+objname+'_position_analysis.csv')\n",
    "    \n",
    "    geo_obj_pos.to_csv('../runs/'+flname+'/geocentric_'+flname+'_position_analysis.csv')\n"
   ]
  },
  {
   "cell_type": "code",
   "execution_count": 20,
   "metadata": {},
   "outputs": [
    {
     "name": "stdout",
     "output_type": "stream",
     "text": [
      "Read the runprops.txt file\n",
      "          kboTIME               x               y             z\n",
      "0    2456214.4112 -427369615.5015 -416393889.0837 34627114.9823\n",
      "1    2456214.5362 -427114634.1693 -416780433.7549 34623473.2186\n",
      "2    2456214.6612 -426861672.3914 -417167045.0993 34619991.0958\n",
      "3    2456214.7862 -426609642.9146 -417555379.1328 34617385.7168\n",
      "4    2456214.9112 -426356498.8610 -417945897.3131 34615854.9662\n",
      "...           ...             ...             ...           ...\n",
      "1182 2456362.1668   42921596.1932 -451430286.5043 28214482.6852\n",
      "1183 2456362.2918   43152474.3407 -451120624.1849 28204862.6400\n",
      "1184 2456362.4168   43381477.6434 -450813030.6193 28196221.8010\n",
      "1185 2456362.5418   43610710.6225 -450507620.4196 28188606.1610\n",
      "1186 2456362.6668   43841744.6273 -450203106.5133 28181454.8090\n",
      "\n",
      "[1187 rows x 4 columns]\n"
     ]
    }
   ],
   "source": [
    "build_geo_analysis('Sila','1999 CS29','10')"
   ]
  },
  {
   "cell_type": "code",
   "execution_count": null,
   "metadata": {},
   "outputs": [],
   "source": []
  }
 ],
 "metadata": {
  "kernelspec": {
   "display_name": "mm_env",
   "language": "python",
   "name": "mm_env"
  },
  "language_info": {
   "codemirror_mode": {
    "name": "ipython",
    "version": 3
   },
   "file_extension": ".py",
   "mimetype": "text/x-python",
   "name": "python",
   "nbconvert_exporter": "python",
   "pygments_lexer": "ipython3",
   "version": "3.7.3"
  }
 },
 "nbformat": 4,
 "nbformat_minor": 4
}
