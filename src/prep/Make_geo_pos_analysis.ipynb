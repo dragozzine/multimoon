{
 "cells": [
  {
   "cell_type": "code",
   "execution_count": 1,
   "metadata": {},
   "outputs": [
    {
     "name": "stdout",
     "output_type": "stream",
     "text": [
      "/home/byu.local/djspenc/research/multimoon/src\n"
     ]
    },
    {
     "name": "stderr",
     "output_type": "stream",
     "text": [
      "/home/byu.local/djspenc/.mm_env/lib/python3.7/site-packages/requests/__init__.py:91: RequestsDependencyWarning: urllib3 (1.26.8) or chardet (3.0.4) doesn't match a supported version!\n",
      "  RequestsDependencyWarning)\n"
     ]
    }
   ],
   "source": [
    "import numpy as np\n",
    "import pandas as pd\n",
    "from astropy.time import Time\n",
    "import commentjson as json\n",
    "import os\n",
    "\n",
    "if 'prep' in os.getcwd():\n",
    "    os.chdir('../')\n",
    "print(os.getcwd())\n",
    "import mm_make_geo_pos\n",
    "\n",
    "# Astrometry plots\n",
    "def build_geo_analysis(flname, objname, run_name):\n",
    "    class ReadJson(object):\n",
    "        def __init__(self, filename):\n",
    "            print('Read the runprops.txt file')\n",
    "            self.data = json.load(open(filename))\n",
    "        def outProps(self):\n",
    "            return self.data\n",
    "    getData = ReadJson('../runs/'+flname+'/'+run_name+'/runprops.txt')\n",
    "    runprops = getData.outProps()\n",
    "    \n",
    "    obsdf = pd.read_csv('../runs/'+flname+'/observations/'+flname+'_obs_df.csv')\n",
    "    \n",
    "    time_arr = obsdf['time'].values.flatten()\n",
    "    tmin = time_arr.min()+4000\n",
    "    tmax = time_arr.max()\n",
    "\n",
    "    converttimes = [tmin,tmax]\n",
    "    t = Time(converttimes, format = 'jd')\n",
    "\n",
    "    timesdic = {'start': t.isot[0], 'stop': t.isot[1], 'step': '3h'}\n",
    "    geo_obj_pos = mm_make_geo_pos.mm_make_geo_pos(objname, timesdic, runprops, True)\n",
    "\n",
    "    #geo_obj_pos.to_csv('../runs/'+objname+'/'+run_name+'/geocentric_'+objname+'_position_analysis.csv')\n",
    "    \n",
    "    geo_obj_pos.to_csv('../runs/'+flname+'/geocentric_'+flname+'_position_analysis.csv')\n"
   ]
  },
  {
   "cell_type": "code",
   "execution_count": 2,
   "metadata": {},
   "outputs": [
    {
     "name": "stdout",
     "output_type": "stream",
     "text": [
      "Read the runprops.txt file\n",
      "           kboTIME                x                y              z\n",
      "0     2457440.4393 -5734389737.1672 -2734701507.4863 360023106.7197\n",
      "1     2457440.5643 -5734213490.6025 -2734462286.1138 360023233.7652\n",
      "2     2457440.6893 -5734036008.0780 -2734220891.5697 360022554.6022\n",
      "3     2457440.8143 -5733859270.1890 -2733976659.1990 360020783.9154\n",
      "4     2457440.9394 -5733685187.9918 -2733730407.3842 360018279.1693\n",
      "...            ...              ...              ...            ...\n",
      "11384 2458863.4361 -5525312289.5925 -3303112433.1937 345419627.0917\n",
      "11385 2458863.5611 -5524987969.3093 -3303025372.0782 345419613.3485\n",
      "11386 2458863.6861 -5524661231.9911 -3302937229.9361 345419407.2343\n",
      "11387 2458863.8111 -5524333209.5093 -3302846373.6107 345418302.8379\n",
      "11388 2458863.9361 -5524005962.0535 -3302752384.9090 345416122.9300\n",
      "\n",
      "[11389 rows x 4 columns]\n"
     ]
    }
   ],
   "source": [
    "build_geo_analysis('2005 EO304','2005 EO304','10')"
   ]
  },
  {
   "cell_type": "code",
   "execution_count": null,
   "metadata": {},
   "outputs": [],
   "source": []
  }
 ],
 "metadata": {
  "kernelspec": {
   "display_name": "mm_env",
   "language": "python",
   "name": "mm_env"
  },
  "language_info": {
   "codemirror_mode": {
    "name": "ipython",
    "version": 3
   },
   "file_extension": ".py",
   "mimetype": "text/x-python",
   "name": "python",
   "nbconvert_exporter": "python",
   "pygments_lexer": "ipython3",
   "version": "3.7.3"
  }
 },
 "nbformat": 4,
 "nbformat_minor": 4
}
