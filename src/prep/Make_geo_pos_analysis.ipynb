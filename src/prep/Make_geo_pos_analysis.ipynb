{
 "cells": [
  {
   "cell_type": "code",
   "execution_count": 2,
   "metadata": {},
   "outputs": [
    {
     "name": "stdout",
     "output_type": "stream",
     "text": [
      "/home/byu.local/djspenc/research/multimoon/src\n"
     ]
    },
    {
     "name": "stderr",
     "output_type": "stream",
     "text": [
      "/home/byu.local/djspenc/.mm_env/lib/python3.7/site-packages/requests/__init__.py:91: RequestsDependencyWarning: urllib3 (1.26.8) or chardet (3.0.4) doesn't match a supported version!\n",
      "  RequestsDependencyWarning)\n"
     ]
    }
   ],
   "source": [
    "import numpy as np\n",
    "import pandas as pd\n",
    "from astropy.time import Time\n",
    "import commentjson as json\n",
    "import os\n",
    "\n",
    "if 'prep' in os.getcwd():\n",
    "    os.chdir('../')\n",
    "print(os.getcwd())\n",
    "import mm_make_geo_pos\n",
    "\n",
    "# Astrometry plots\n",
    "def build_geo_analysis(flname, objname, run_name):\n",
    "    class ReadJson(object):\n",
    "        def __init__(self, filename):\n",
    "            print('Read the runprops.txt file')\n",
    "            self.data = json.load(open(filename))\n",
    "        def outProps(self):\n",
    "            return self.data\n",
    "    getData = ReadJson('../runs/'+flname+'/'+run_name+'/runprops.txt')\n",
    "    runprops = getData.outProps()\n",
    "    \n",
    "    obsdf = pd.read_csv('../runs/'+flname+'/observations/'+flname+'_obs_df.csv')\n",
    "    \n",
    "    time_arr = obsdf['time'].values.flatten()\n",
    "    tmin = time_arr.min()\n",
    "    tmax = time_arr.max()\n",
    "\n",
    "    converttimes = [tmin,tmax]\n",
    "    t = Time(converttimes, format = 'jd')\n",
    "\n",
    "    timesdic = {'start': t.isot[0], 'stop': t.isot[1], 'step': '3h'}\n",
    "    geo_obj_pos = mm_make_geo_pos.mm_make_geo_pos(objname, timesdic, runprops, True)\n",
    "\n",
    "    #geo_obj_pos.to_csv('../runs/'+objname+'/'+run_name+'/geocentric_'+objname+'_position_analysis.csv')\n",
    "    \n",
    "    geo_obj_pos.to_csv('../runs/'+flname+'/geocentric_'+flname+'_position_analysis.csv')\n"
   ]
  },
  {
   "cell_type": "code",
   "execution_count": 3,
   "metadata": {},
   "outputs": [
    {
     "name": "stdout",
     "output_type": "stream",
     "text": [
      "Read the runprops.txt file\n",
      "           kboTIME                x                y               z\n",
      "0     2453745.9347 -6635708152.8350 -1581059899.9829 3452083044.3421\n",
      "1     2453746.0597 -6635388158.8323 -1580981793.5193 3452086452.0307\n",
      "2     2453746.1847 -6635070958.6595 -1580903972.4952 3452090273.8981\n",
      "3     2453746.3097 -6634755068.7109 -1580827810.9676 3452095104.5343\n",
      "4     2453746.4348 -6634438382.0205 -1580753313.4339 3452100944.2861\n",
      "...            ...              ...              ...             ...\n",
      "27655 2457202.8133 -6256252017.6514 -2320068766.8926 3539183337.8907\n",
      "27656 2457202.9383 -6256549421.8515 -2320146985.5682 3539185541.1942\n",
      "27657 2457203.0632 -6256844505.1369 -2320227335.2011 3539188378.0649\n",
      "27658 2457203.1882 -6257136788.4312 -2320307931.7667 3539191031.0972\n",
      "27659 2457203.3132 -6257427388.4964 -2320387134.3294 3539192790.8933\n",
      "\n",
      "[27660 rows x 4 columns]\n"
     ]
    }
   ],
   "source": [
    "build_geo_analysis('Haumea','Haumea','100')"
   ]
  },
  {
   "cell_type": "code",
   "execution_count": null,
   "metadata": {},
   "outputs": [],
   "source": []
  }
 ],
 "metadata": {
  "kernelspec": {
   "display_name": "mm_env",
   "language": "python",
   "name": "mm_env"
  },
  "language_info": {
   "codemirror_mode": {
    "name": "ipython",
    "version": 3
   },
   "file_extension": ".py",
   "mimetype": "text/x-python",
   "name": "python",
   "nbconvert_exporter": "python",
   "pygments_lexer": "ipython3",
   "version": "3.7.3"
  }
 },
 "nbformat": 4,
 "nbformat_minor": 4
}
