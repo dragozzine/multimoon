{
 "cells": [
  {
   "cell_type": "code",
   "execution_count": 2,
   "metadata": {},
   "outputs": [
    {
     "name": "stdout",
     "output_type": "stream",
     "text": [
      "/home/byu.local/djspenc/research/multimoon/src\n"
     ]
    }
   ],
   "source": [
    "import numpy as np\n",
    "import pandas as pd\n",
    "from astropy.time import Time\n",
    "import commentjson as json\n",
    "import os\n",
    "\n",
    "if 'prep' in os.getcwd():\n",
    "    os.chdir('../')\n",
    "print(os.getcwd())\n",
    "import mm_make_geo_pos\n",
    "\n",
    "# Astrometry plots\n",
    "def build_geo_analysis(flname, objname, run_name):\n",
    "    class ReadJson(object):\n",
    "        def __init__(self, filename):\n",
    "            print('Read the runprops.txt file')\n",
    "            self.data = json.load(open(filename))\n",
    "        def outProps(self):\n",
    "            return self.data\n",
    "    getData = ReadJson('../runs/'+flname+'/'+run_name+'/runprops.txt')\n",
    "    runprops = getData.outProps()\n",
    "    \n",
    "    obsdf = pd.read_csv('../runs/'+flname+'/observations/'+flname+'_obs_df.csv')\n",
    "    \n",
    "    time_arr = obsdf['time'].values.flatten()\n",
    "    tmin = time_arr.min()\n",
    "    tmax = time_arr.max()\n",
    "\n",
    "    converttimes = [tmin,tmax]\n",
    "    t = Time(converttimes, format = 'jd')\n",
    "\n",
    "    timesdic = {'start': t.isot[0], 'stop': t.isot[1], 'step': '3h'}\n",
    "    geo_obj_pos = mm_make_geo_pos.mm_make_geo_pos(objname, timesdic, runprops, True)\n",
    "\n",
    "    #geo_obj_pos.to_csv('../runs/'+objname+'/'+run_name+'/geocentric_'+objname+'_position_analysis.csv')\n",
    "    \n",
    "    geo_obj_pos.to_csv('../runs/'+flname+'/geocentric_'+flname+'_position_analysis.csv')\n"
   ]
  },
  {
   "cell_type": "code",
   "execution_count": 3,
   "metadata": {},
   "outputs": [
    {
     "name": "stdout",
     "output_type": "stream",
     "text": [
      "Read the runprops.txt file\n",
      "           kboTIME               x                y              z\n",
      "0     2452193.0272 5308571226.0620 -3982294998.9004 100738819.7736\n",
      "1     2452193.1522 5308705161.8758 -3982561539.4772 100740414.7460\n",
      "2     2452193.2772 5308837961.6476 -3982825967.8695 100741183.7089\n",
      "3     2452193.4022 5308968683.1356 -3983090013.1182 100741877.0725\n",
      "4     2452193.5272 5309097998.0356 -3983355507.2638 100743289.6548\n",
      "...            ...             ...              ...            ...\n",
      "26577 2455515.1492 6014663198.8495 -2981602561.2873 152509726.2158\n",
      "26578 2455515.2742 6014943274.4241 -2981751898.2276 152510180.7979\n",
      "26579 2455515.3992 6015221403.6355 -2981901941.4606 152511187.5386\n",
      "26580 2455515.5242 6015499264.1906 -2982053860.8483 152513252.0214\n",
      "26581 2455515.6492 6015778943.1500 -2982207390.3856 152516256.8165\n",
      "\n",
      "[26582 rows x 4 columns]\n"
     ]
    }
   ],
   "source": [
    "build_geo_analysis('2001 QT297','2001 QT297','10_sun')"
   ]
  },
  {
   "cell_type": "code",
   "execution_count": null,
   "metadata": {},
   "outputs": [],
   "source": []
  }
 ],
 "metadata": {
  "kernelspec": {
   "display_name": "mm_env",
   "language": "python",
   "name": "mm_env"
  },
  "language_info": {
   "codemirror_mode": {
    "name": "ipython",
    "version": 3
   },
   "file_extension": ".py",
   "mimetype": "text/x-python",
   "name": "python",
   "nbconvert_exporter": "python",
   "pygments_lexer": "ipython3",
   "version": "3.7.3"
  }
 },
 "nbformat": 4,
 "nbformat_minor": 4
}
