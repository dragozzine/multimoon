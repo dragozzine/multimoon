{
 "cells": [
  {
   "cell_type": "code",
   "execution_count": 12,
   "metadata": {},
   "outputs": [
    {
     "name": "stdout",
     "output_type": "stream",
     "text": [
      "[[[0. 0. 0. 0. 0. 0. 0.]\n",
      "  [0. 0. 0. 0. 0. 0. 0.]]\n",
      "\n",
      " [[1. 2. 3. 4. 5. 6. 7.]\n",
      "  [1. 2. 3. 4. 5. 6. 7.]]]\n",
      "[[[1. 2. 3. 4. 5. 6. 7.]\n",
      "  [1. 2. 3. 4. 5. 6. 7.]]]\n"
     ]
    }
   ],
   "source": [
    "import numpy as np\n",
    "\n",
    "stuff = np.array([[[1,2,3,4,5,6,7],[1,2,3,4,5,6,7]]])\n",
    "empty = np.zeros((1,2,7))\n",
    "full = np.append(empty,stuff)\n",
    "\n",
    "empty = np.concatenate((empty, stuff),axis=0)\n",
    "print(empty)\n",
    "new = np.delete(empty,0,0)\n",
    "print(new)\n"
   ]
  },
  {
   "cell_type": "code",
   "execution_count": null,
   "metadata": {},
   "outputs": [],
   "source": []
  }
 ],
 "metadata": {
  "kernelspec": {
   "display_name": "mm_env",
   "language": "python",
   "name": "mm_env"
  },
  "language_info": {
   "codemirror_mode": {
    "name": "ipython",
    "version": 3
   },
   "file_extension": ".py",
   "mimetype": "text/x-python",
   "name": "python",
   "nbconvert_exporter": "python",
   "pygments_lexer": "ipython3",
   "version": "3.7.3"
  }
 },
 "nbformat": 4,
 "nbformat_minor": 4
}
