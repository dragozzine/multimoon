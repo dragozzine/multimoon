{
 "cells": [
  {
   "cell_type": "code",
   "execution_count": 7,
   "metadata": {},
   "outputs": [
    {
     "name": "stdout",
     "output_type": "stream",
     "text": [
      "5.1242901775 79.11279852625\n",
      "0.08334723146 -0.17044019380249997\n",
      "0.001111304225 0.001054879938175\n",
      "nan nan\n",
      "nan nan\n",
      "2460240.835437838\n"
     ]
    }
   ],
   "source": [
    "import pandas as pd\n",
    "import numpy as np\n",
    "\n",
    "data = pd.read_csv('Altjira_obs_df_5.csv')\n",
    "\n",
    "lat_ave = np.mean(data['Lat_Prim'][-5:-1])\n",
    "long_ave = np.mean(data['Long_Prim'][-5:-1])\n",
    "dlat_ave = np.mean(data['DeltaLat_Secondary'][-5:-1])\n",
    "dlong_ave = np.mean(data['DeltaLong_Secondary'][-5:-1])\n",
    "dlat_err_ave = np.mean(data['DeltaLat_Secondary_err'][-5:-1])\n",
    "dlong_err_ave = np.mean(data['DeltaLong_Secondary_err'][-5:-1])\n",
    "dlat3_ave = np.mean(data['DeltaLat_Trinary'][-5:-1])\n",
    "dlong3_ave = np.mean(data['DeltaLong_Trinary'][-5:-1])\n",
    "dlat3_err_ave = np.mean(data['DeltaLat_Trinary_err'][-5:-1])\n",
    "dlong3_err_ave = np.mean(data['DeltaLong_Trinary_err'][-5:-1])\n",
    "#Lat_Prim,Long_Prim,DeltaLat_Secondary,DeltaLong_Secondary,DeltaLat_Secondary_err,DeltaLong_Secondary_err,DeltaLat_Trinary,DeltaLong_Trinary,DeltaLat_Trinary_err,DeltaLong_Trinary_err\n",
    "print(lat_ave, long_ave)\n",
    "print(dlat_ave, dlong_ave)\n",
    "print(dlat_err_ave, dlong_err_ave)\n",
    "print(dlat3_ave, dlong3_ave)\n",
    "print(dlat3_err_ave, dlong3_err_ave)\n",
    "print(np.mean(data['time'][-5:-1]))"
   ]
  },
  {
   "cell_type": "code",
   "execution_count": null,
   "metadata": {},
   "outputs": [],
   "source": []
  }
 ],
 "metadata": {
  "kernelspec": {
   "display_name": "mm_env",
   "language": "python",
   "name": "mm_env"
  },
  "language_info": {
   "codemirror_mode": {
    "name": "ipython",
    "version": 3
   },
   "file_extension": ".py",
   "mimetype": "text/x-python",
   "name": "python",
   "nbconvert_exporter": "python",
   "pygments_lexer": "ipython3",
   "version": "3.7.3"
  }
 },
 "nbformat": 4,
 "nbformat_minor": 4
}
