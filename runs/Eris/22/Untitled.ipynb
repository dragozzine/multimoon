{
 "cells": [
  {
   "cell_type": "code",
   "execution_count": 8,
   "metadata": {},
   "outputs": [
    {
     "name": "stdout",
     "output_type": "stream",
     "text": [
      "[[ 1.  2.  3.  4.  5. nan  7.  8.  9.]\n",
      " [ 1.  2. nan  4.  5. nan  7.  8.  9.]]\n",
      "[[False False False False False  True False False False]\n",
      " [False False  True False False  True False False False]]\n",
      "[1. 2. 3. 4. 5. 7. 8. 9. 1. 2. 4. 5. 7. 8. 9.]\n"
     ]
    }
   ],
   "source": [
    "import numpy as np\n",
    "\n",
    "arr = np.array([[1,2,3,4,5,np.nan,7,8,9],[1,2,np.nan,4,5,np.nan,7,8,9]])\n",
    "print(arr)\n",
    "print(np.isnan(arr))\n",
    "newarr = arr[~np.isnan(arr)]\n",
    "print(newarr)"
   ]
  },
  {
   "cell_type": "code",
   "execution_count": null,
   "metadata": {},
   "outputs": [],
   "source": []
  }
 ],
 "metadata": {
  "kernelspec": {
   "display_name": "mm_env",
   "language": "python",
   "name": "mm_env"
  },
  "language_info": {
   "codemirror_mode": {
    "name": "ipython",
    "version": 3
   },
   "file_extension": ".py",
   "mimetype": "text/x-python",
   "name": "python",
   "nbconvert_exporter": "python",
   "pygments_lexer": "ipython3",
   "version": "3.7.3"
  }
 },
 "nbformat": 4,
 "nbformat_minor": 4
}
