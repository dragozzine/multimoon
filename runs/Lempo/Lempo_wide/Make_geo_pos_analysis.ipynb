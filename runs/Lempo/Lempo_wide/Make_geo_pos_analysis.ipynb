{
 "cells": [
  {
   "cell_type": "code",
   "execution_count": 5,
   "metadata": {},
   "outputs": [],
   "source": [
    "import numpy as np\n",
    "import pandas as pd\n",
    "from astropy.time import Time\n",
    "import commentjson as json\n",
    "\n",
    "\n",
    "# Astrometry plots\n",
    "def build_geo_analysis(objname):\n",
    "    class ReadJson(object):\n",
    "        def __init__(self, filename):\n",
    "            print('Read the runprops.txt file')\n",
    "            self.data = json.load(open(filename))\n",
    "        def outProps(self):\n",
    "            return self.data\n",
    "\n",
    "    getData = ReadJson('runprops.txt')\n",
    "    runprops = getData.outProps()\n",
    "    \n",
    "    obsdf = pd.read_csv(objname+'_obs_df.csv')\n",
    "    \n",
    "    time_arr = obsdf['time'].values.flatten()\n",
    "    tmin = time_arr.min()\n",
    "    tmax = time_arr.max()\n",
    "\n",
    "    converttimes = [tmin,tmax]\n",
    "    t = Time(converttimes, format = 'jd')\n",
    "\n",
    "    timesdic = {'start': t.isot[0], 'stop': t.isot[1], 'step': '6h'}\n",
    "    geo_obj_pos = mm_make_geo_pos.mm_make_geo_pos(objname, timesdic, runprops, True)\n",
    "\n",
    "    geo_obj_pos.to_csv(objname+'_obs_df_analysis.csv')\n"
   ]
  },
  {
   "cell_type": "code",
   "execution_count": 6,
   "metadata": {},
   "outputs": [
    {
     "name": "stdout",
     "output_type": "stream",
     "text": [
      "Read the runprops.txt file\n"
     ]
    },
    {
     "ename": "NameError",
     "evalue": "name 'mm_make_geo_pos' is not defined",
     "output_type": "error",
     "traceback": [
      "\u001b[0;31m---------------------------------------------------------------------------\u001b[0m",
      "\u001b[0;31mNameError\u001b[0m                                 Traceback (most recent call last)",
      "\u001b[0;32m<ipython-input-6-16ab0a221996>\u001b[0m in \u001b[0;36m<module>\u001b[0;34m\u001b[0m\n\u001b[0;32m----> 1\u001b[0;31m \u001b[0mbuild_geo_analysis\u001b[0m\u001b[0;34m(\u001b[0m\u001b[0;34m'Lempo'\u001b[0m\u001b[0;34m)\u001b[0m\u001b[0;34m\u001b[0m\u001b[0;34m\u001b[0m\u001b[0m\n\u001b[0m",
      "\u001b[0;32m<ipython-input-5-a5dc1374fc73>\u001b[0m in \u001b[0;36mbuild_geo_analysis\u001b[0;34m(objname)\u001b[0m\n\u001b[1;32m     27\u001b[0m \u001b[0;34m\u001b[0m\u001b[0m\n\u001b[1;32m     28\u001b[0m     \u001b[0mtimesdic\u001b[0m \u001b[0;34m=\u001b[0m \u001b[0;34m{\u001b[0m\u001b[0;34m'start'\u001b[0m\u001b[0;34m:\u001b[0m \u001b[0mt\u001b[0m\u001b[0;34m.\u001b[0m\u001b[0misot\u001b[0m\u001b[0;34m[\u001b[0m\u001b[0;36m0\u001b[0m\u001b[0;34m]\u001b[0m\u001b[0;34m,\u001b[0m \u001b[0;34m'stop'\u001b[0m\u001b[0;34m:\u001b[0m \u001b[0mt\u001b[0m\u001b[0;34m.\u001b[0m\u001b[0misot\u001b[0m\u001b[0;34m[\u001b[0m\u001b[0;36m1\u001b[0m\u001b[0;34m]\u001b[0m\u001b[0;34m,\u001b[0m \u001b[0;34m'step'\u001b[0m\u001b[0;34m:\u001b[0m \u001b[0;34m'6h'\u001b[0m\u001b[0;34m}\u001b[0m\u001b[0;34m\u001b[0m\u001b[0;34m\u001b[0m\u001b[0m\n\u001b[0;32m---> 29\u001b[0;31m     \u001b[0mgeo_obj_pos\u001b[0m \u001b[0;34m=\u001b[0m \u001b[0mmm_make_geo_pos\u001b[0m\u001b[0;34m.\u001b[0m\u001b[0mmm_make_geo_pos\u001b[0m\u001b[0;34m(\u001b[0m\u001b[0mobjname\u001b[0m\u001b[0;34m,\u001b[0m \u001b[0mtimesdic\u001b[0m\u001b[0;34m,\u001b[0m \u001b[0mrunprops\u001b[0m\u001b[0;34m,\u001b[0m \u001b[0;32mTrue\u001b[0m\u001b[0;34m)\u001b[0m\u001b[0;34m\u001b[0m\u001b[0;34m\u001b[0m\u001b[0m\n\u001b[0m\u001b[1;32m     30\u001b[0m \u001b[0;34m\u001b[0m\u001b[0m\n\u001b[1;32m     31\u001b[0m     \u001b[0mgeo_obj_pos\u001b[0m\u001b[0;34m.\u001b[0m\u001b[0mto_csv\u001b[0m\u001b[0;34m(\u001b[0m\u001b[0mobjname\u001b[0m\u001b[0;34m+\u001b[0m\u001b[0;34m'_obs_df_analysis.csv'\u001b[0m\u001b[0;34m)\u001b[0m\u001b[0;34m\u001b[0m\u001b[0;34m\u001b[0m\u001b[0m\n",
      "\u001b[0;31mNameError\u001b[0m: name 'mm_make_geo_pos' is not defined"
     ]
    }
   ],
   "source": [
    "build_geo_analysis('Lempo')"
   ]
  },
  {
   "cell_type": "code",
   "execution_count": null,
   "metadata": {},
   "outputs": [],
   "source": []
  }
 ],
 "metadata": {
  "kernelspec": {
   "display_name": "mm_env",
   "language": "python",
   "name": "mm_env"
  },
  "language_info": {
   "codemirror_mode": {
    "name": "ipython",
    "version": 3
   },
   "file_extension": ".py",
   "mimetype": "text/x-python",
   "name": "python",
   "nbconvert_exporter": "python",
   "pygments_lexer": "ipython3",
   "version": "3.7.3"
  }
 },
 "nbformat": 4,
 "nbformat_minor": 4
}
