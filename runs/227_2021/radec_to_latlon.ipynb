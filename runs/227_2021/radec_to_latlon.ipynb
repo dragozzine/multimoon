{
 "cells": [
  {
   "cell_type": "code",
   "execution_count": 1,
   "metadata": {},
   "outputs": [
    {
     "name": "stderr",
     "output_type": "stream",
     "text": [
      "/home/byu.local/djspenc/.mm_env/lib/python3.7/site-packages/requests/__init__.py:91: RequestsDependencyWarning: urllib3 (1.26.8) or chardet (3.0.4) doesn't match a supported version!\n",
      "  RequestsDependencyWarning)\n"
     ]
    },
    {
     "name": "stdout",
     "output_type": "stream",
     "text": [
      "       kboTIME               x               y              z\n",
      "0 2458884.6199 1997700930.0873 6486994865.6345 593845202.6250\n",
      "[70.73422] [27.30177]\n",
      "[70.73427627] 1 [0.003] 1\n",
      "           time  Lat_Prim  Long_Prim  DeltaLat_Secondary  DeltaLong_Secondary  \\\n",
      "0  2.458885e+06  5.000061  72.879657           -0.089696             0.169672   \n",
      "\n",
      "   DeltaLat_Secondary_err  DeltaLong_Secondary_err  \n",
      "0                0.002917                 0.002738  \n"
     ]
    }
   ],
   "source": [
    "import numpy as np\n",
    "import pandas as pd\n",
    "import latlon_transform\n",
    "\n",
    "params = pd.read_csv('data_files/Altjira.csv')\n",
    "\n",
    "latlon_transform.convert_to_primary_centric(params, ['Altjira','Secondary'],2,500)"
   ]
  },
  {
   "cell_type": "code",
   "execution_count": null,
   "metadata": {},
   "outputs": [],
   "source": []
  }
 ],
 "metadata": {
  "kernelspec": {
   "display_name": "mm_env",
   "language": "python",
   "name": "mm_env"
  },
  "language_info": {
   "codemirror_mode": {
    "name": "ipython",
    "version": 3
   },
   "file_extension": ".py",
   "mimetype": "text/x-python",
   "name": "python",
   "nbconvert_exporter": "python",
   "pygments_lexer": "ipython3",
   "version": "3.7.3"
  }
 },
 "nbformat": 4,
 "nbformat_minor": 4
}
