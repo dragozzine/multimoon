{
 "cells": [
  {
   "cell_type": "code",
   "execution_count": 4,
   "metadata": {},
   "outputs": [
    {
     "name": "stdout",
     "output_type": "stream",
     "text": [
      "/home/byu.local/djspenc/research/multimoon/src\n"
     ]
    }
   ],
   "source": [
    "import numpy as np\n",
    "import pandas as pd\n",
    "from astropy.time import Time\n",
    "import commentjson as json\n",
    "import os\n",
    "\n",
    "if 'prep' in os.getcwd():\n",
    "    os.chdir('../')\n",
    "print(os.getcwd())\n",
    "import mm_make_geo_pos\n",
    "\n",
    "# Astrometry plots\n",
    "def build_geo_analysis(flname, objname, run_name):\n",
    "    class ReadJson(object):\n",
    "        def __init__(self, filename):\n",
    "            print('Read the runprops.txt file')\n",
    "            self.data = json.load(open(filename))\n",
    "        def outProps(self):\n",
    "            return self.data\n",
    "    getData = ReadJson('../runs/'+flname+'/'+run_name+'/runprops.txt')\n",
    "    runprops = getData.outProps()\n",
    "    \n",
    "    obsdf = pd.read_csv('../runs/'+flname+'/observations/'+flname+'_obs_df.csv')\n",
    "    \n",
    "    time_arr = obsdf['time'].values.flatten()\n",
    "    tmin = time_arr.min()\n",
    "    tmax = time_arr.max()\n",
    "\n",
    "    converttimes = [tmin,tmax]\n",
    "    t = Time(converttimes, format = 'jd')\n",
    "\n",
    "    timesdic = {'start': t.isot[0], 'stop': t.isot[1], 'step': '3h'}\n",
    "    geo_obj_pos = mm_make_geo_pos.mm_make_geo_pos(objname, timesdic, runprops, True)\n",
    "\n",
    "    #geo_obj_pos.to_csv('../runs/'+objname+'/'+run_name+'/geocentric_'+objname+'_position_analysis.csv')\n",
    "    \n",
    "    geo_obj_pos.to_csv('../runs/'+flname+'/geocentric_'+flname+'_position_analysis.csv')\n"
   ]
  },
  {
   "cell_type": "code",
   "execution_count": 6,
   "metadata": {},
   "outputs": [
    {
     "name": "stdout",
     "output_type": "stream",
     "text": [
      "Read the runprops.txt file\n",
      "           kboTIME               x               y               z\n",
      "0     2454242.1786 6753747113.9537 -787990244.9912 -539005516.2048\n",
      "1     2454242.3036 6753478702.1481 -787787155.6119 -539005567.1747\n",
      "2     2454242.4287 6753211811.4606 -787582794.6663 -539006427.1848\n",
      "3     2454242.5537 6752944459.4926 -787376506.9574 -539008378.9935\n",
      "4     2454242.6787 6752674741.8363 -787169119.9042 -539011062.5572\n",
      "...            ...             ...             ...             ...\n",
      "24221 2457269.8129 6550918866.9014  259293772.9583 -563024443.2923\n",
      "24222 2457269.9379 6550818332.9919  259033235.3651 -563023670.9518\n",
      "24223 2457270.0629 6550721074.0766  258773202.1905 -563023215.8398\n",
      "24224 2457270.1879 6550625756.6494  258515173.4562 -563023725.4166\n",
      "24225 2457270.3129 6550530283.1035  258259341.2741 -563025278.8884\n",
      "\n",
      "[24226 rows x 4 columns]\n"
     ]
    }
   ],
   "source": [
    "build_geo_analysis('2002 PD149','2002 PD149','10')"
   ]
  },
  {
   "cell_type": "code",
   "execution_count": null,
   "metadata": {},
   "outputs": [],
   "source": []
  }
 ],
 "metadata": {
  "kernelspec": {
   "display_name": "mm_env",
   "language": "python",
   "name": "mm_env"
  },
  "language_info": {
   "codemirror_mode": {
    "name": "ipython",
    "version": 3
   },
   "file_extension": ".py",
   "mimetype": "text/x-python",
   "name": "python",
   "nbconvert_exporter": "python",
   "pygments_lexer": "ipython3",
   "version": "3.7.3"
  }
 },
 "nbformat": 4,
 "nbformat_minor": 4
}
