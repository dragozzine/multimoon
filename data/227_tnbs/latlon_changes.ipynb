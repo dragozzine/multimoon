{
 "cells": [
  {
   "cell_type": "code",
   "execution_count": 2,
   "metadata": {},
   "outputs": [],
   "source": [
    "import latlon_transform\n",
    "import pandas as pd\n",
    "\n",
    "def do_file(objectNames, numobjects, sample_num):\n",
    "\n",
    "    filename = objectNames[0]+'/'+objectNames[0]+'_astrometry.csv'\n",
    "    params = pd.read_csv(filename)\n",
    "\n",
    "    latlon_transform.convert_to_primary_centric(params, objectNames,numobjects,sample_num)\n"
   ]
  },
  {
   "cell_type": "code",
   "execution_count": 3,
   "metadata": {},
   "outputs": [
    {
     "name": "stdout",
     "output_type": "stream",
     "text": [
      "[16.761767 16.735164 16.735125 16.729158 16.729306 16.740347 16.825217\n",
      " 16.993264 16.968394 16.878472 17.053842 16.966169] [-2.11636 -1.99692 -1.99728 -2.16169 -2.17072 -2.35914 -1.89475 -2.23083\n",
      " -2.0015  -1.96019 -2.07036 -1.86689]\n",
      "            time  Lat_Prim  Long_Prim  DeltaLat_Secondary  \\\n",
      "0   2.454948e+06 -8.540039  14.628133           -0.056939   \n",
      "1   2.455411e+06 -8.419589  14.649833           -0.064783   \n",
      "2   2.455412e+06 -8.419906  14.649656           -0.072028   \n",
      "3   2.455439e+06 -8.569311  14.580077            0.048845   \n",
      "4   2.455441e+06 -8.577699  14.576698           -0.114299   \n",
      "5   2.455467e+06 -8.755792  14.513564            0.129475   \n",
      "6   2.455752e+06 -8.359946  14.773536           -0.134740   \n",
      "7   2.456020e+06 -8.734710  14.799484            0.113128   \n",
      "8   2.456054e+06 -8.513509  14.865523            0.139206   \n",
      "9   2.456142e+06 -8.440812  14.797738           -0.033000   \n",
      "10  2.456405e+06 -8.609900  14.918444            0.122728   \n",
      "11  2.456486e+06 -8.388416  14.915788           -0.027835   \n",
      "\n",
      "    DeltaLong_Secondary  DeltaLat_Secondary_err  DeltaLong_Secondary_err  \n",
      "0              0.109617                0.002231                 0.003120  \n",
      "1             -0.126768                0.001952                 0.001986  \n",
      "2             -0.116855                0.002019                 0.002053  \n",
      "3             -0.121468                0.002217                 0.001294  \n",
      "4             -0.071856                0.001373                 0.001341  \n",
      "5              0.047989                0.002337                 0.004440  \n",
      "6              0.033028                0.005132                 0.008517  \n",
      "7             -0.074014                0.003117                 0.003099  \n",
      "8              0.003110                0.003010                 0.003185  \n",
      "9             -0.122993                0.007609                 0.012552  \n",
      "10            -0.039892                0.010360                 0.005233  \n",
      "11            -0.143697                0.007443                 0.004534  \n"
     ]
    }
   ],
   "source": [
    "\n",
    "do_file(['2003 MW12','Secondary'],2,500)\n"
   ]
  },
  {
   "cell_type": "code",
   "execution_count": null,
   "metadata": {},
   "outputs": [],
   "source": []
  }
 ],
 "metadata": {
  "kernelspec": {
   "display_name": "mm_env",
   "language": "python",
   "name": "mm_env"
  },
  "language_info": {
   "codemirror_mode": {
    "name": "ipython",
    "version": 3
   },
   "file_extension": ".py",
   "mimetype": "text/x-python",
   "name": "python",
   "nbconvert_exporter": "python",
   "pygments_lexer": "ipython3",
   "version": "3.7.3"
  }
 },
 "nbformat": 4,
 "nbformat_minor": 4
}
