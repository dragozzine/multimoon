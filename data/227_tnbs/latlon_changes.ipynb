{
 "cells": [
  {
   "cell_type": "code",
   "execution_count": 1,
   "metadata": {},
   "outputs": [],
   "source": [
    "import latlon_transform\n",
    "import pandas as pd\n",
    "\n",
    "def do_file(objectNames, numobjects, sample_num):\n",
    "\n",
    "    filename = objectNames[0]+'/'+objectNames[0]+'_astrometry.csv'\n",
    "    params = pd.read_csv(filename)\n",
    "\n",
    "    latlon_transform.convert_to_primary_centric(params, objectNames,numobjects,sample_num)\n"
   ]
  },
  {
   "cell_type": "code",
   "execution_count": 3,
   "metadata": {},
   "outputs": [
    {
     "name": "stdout",
     "output_type": "stream",
     "text": [
      "[ 9.602703  9.654489  9.655431  9.656131  9.6582    9.658897  9.658772\n",
      "  9.654717  9.713658  9.712944  9.752472  9.996253 10.379464] [ -4.36033  -4.73411  -4.75425  -4.77047  -4.83264  -4.86897  -4.94169\n",
      "  -5.02164  -5.30853  -5.47636  -6.39611  -8.48206 -11.60658]\n",
      "            time   Lat_Prim  Long_Prim  DeltaLat_Vanth  DeltaLong_Vanth  \\\n",
      "0   2.453687e+06  -7.800703   5.908235       -0.214083         0.133335   \n",
      "1   2.454040e+06  -8.163563   5.806918       -0.193534         0.161844   \n",
      "2   2.454042e+06  -8.182379   5.799691       -0.170176        -0.175368   \n",
      "3   2.454044e+06  -8.197509   5.793816        0.098010        -0.239267   \n",
      "4   2.454051e+06  -8.255254   5.770727       -0.220129        -0.103319   \n",
      "5   2.454056e+06  -8.288795   5.756760        0.235587         0.062022   \n",
      "6   2.454066e+06  -8.355325   5.727397        0.199195         0.143612   \n",
      "7   2.454080e+06  -8.426909   5.691501       -0.210791        -0.126390   \n",
      "8   2.454416e+06  -8.712950   5.631185        0.082952        -0.250250   \n",
      "9   2.454440e+06  -8.866275   5.562843       -0.025429         0.253420   \n",
      "10  2.455250e+06  -9.723494   5.229023       -0.056521         0.258551   \n",
      "11  2.457118e+06 -11.726887   4.604631        0.241438         0.020925   \n",
      "12  2.459272e+06 -14.728806   3.656072        0.099348        -0.243997   \n",
      "\n",
      "    DeltaLat_Vanth_err  DeltaLong_Vanth_err  \n",
      "0             0.009524             0.006048  \n",
      "1             0.000741             0.001014  \n",
      "2             0.000506             0.000506  \n",
      "3             0.000727             0.000564  \n",
      "4             0.000873             0.001795  \n",
      "5             0.000516             0.000563  \n",
      "6             0.000564             0.000822  \n",
      "7             0.000503             0.000511  \n",
      "8             0.005156             0.005070  \n",
      "9             0.003957             0.002816  \n",
      "10            0.024983             0.025113  \n",
      "11            0.000977             0.001027  \n",
      "12            0.002150             0.001333  \n"
     ]
    }
   ],
   "source": [
    "\n",
    "do_file(['Orcus','Vanth'],2,1000)\n"
   ]
  },
  {
   "cell_type": "code",
   "execution_count": null,
   "metadata": {},
   "outputs": [],
   "source": []
  }
 ],
 "metadata": {
  "kernelspec": {
   "display_name": "mm_env",
   "language": "python",
   "name": "mm_env"
  },
  "language_info": {
   "codemirror_mode": {
    "name": "ipython",
    "version": 3
   },
   "file_extension": ".py",
   "mimetype": "text/x-python",
   "name": "python",
   "nbconvert_exporter": "python",
   "pygments_lexer": "ipython3",
   "version": "3.7.3"
  }
 },
 "nbformat": 4,
 "nbformat_minor": 4
}
