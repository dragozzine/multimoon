{
 "cells": [
  {
   "cell_type": "code",
   "execution_count": 5,
   "metadata": {},
   "outputs": [],
   "source": [
    "import latlon_transform\n",
    "import pandas as pd\n",
    "\n",
    "def do_file(objectNames, numobjects, sample_num):\n",
    "\n",
    "    filename = objectNames[0]+'/'+objectNames[0]+'_astrometry.csv'\n",
    "    params = pd.read_csv(filename)\n",
    "\n",
    "    latlon_transform.convert_to_primary_centric(params, objectNames,numobjects,sample_num)\n"
   ]
  },
  {
   "cell_type": "code",
   "execution_count": 6,
   "metadata": {},
   "outputs": [
    {
     "name": "stdout",
     "output_type": "stream",
     "text": [
      "[1.643656 1.596361 1.66035  1.66005  1.656867 1.656753 1.656503 1.670747\n",
      " 1.663156 1.663167 1.663703 1.663717] [-5.46794 -5.66908 -5.13369 -5.13703 -5.16911 -5.17017 -5.17247 -4.85113\n",
      " -3.23498 -3.23472 -3.22234 -3.22206]\n",
      "            time  Lat_Prim   Long_Prim  DeltaLat_Dysnomia  DeltaLong_Dysnomia  \\\n",
      "0   2.453623e+06 -5.668828  359.327637           0.281090           -0.444689   \n",
      "1   2.453707e+06 -5.834385  359.203490          -0.392135            0.053731   \n",
      "2   2.453968e+06 -5.369066  359.477078           0.378122            0.003291   \n",
      "3   2.453969e+06 -5.372009  359.475463           0.382109           -0.226195   \n",
      "4   2.453978e+06 -5.400151  359.459677          -0.378227            0.367488   \n",
      "5   2.453978e+06 -5.401077  359.459147          -0.354365            0.395334   \n",
      "6   2.453978e+06 -5.403086  359.457995          -0.273668            0.447939   \n",
      "7   2.454325e+06 -5.114160  359.599900          -0.356745            0.373254   \n",
      "8   2.457051e+06 -3.629164    0.239280          -0.067857           -0.411072   \n",
      "9   2.457051e+06 -3.628929    0.239394          -0.074143           -0.404383   \n",
      "10  2.457054e+06 -3.617788    0.244828          -0.415365            0.132834   \n",
      "11  2.457054e+06 -3.617537    0.244953          -0.415432            0.144033   \n",
      "\n",
      "    DeltaLat_Dysnomia_err  DeltaLong_Dysnomia_err  \n",
      "0                0.008330                0.007878  \n",
      "1                0.005878                0.006238  \n",
      "2                0.009795                0.009338  \n",
      "3                0.039337                0.040433  \n",
      "4                0.019862                0.020362  \n",
      "5                0.000985                0.000948  \n",
      "6                0.009996                0.009652  \n",
      "7                0.002875                0.003739  \n",
      "8                0.002081                0.002122  \n",
      "9                0.002255                0.002193  \n",
      "10               0.002404                0.002259  \n",
      "11               0.002164                0.002242  \n"
     ]
    }
   ],
   "source": [
    "\n",
    "do_file(['Eris','Dysnomia'],2,500)\n"
   ]
  },
  {
   "cell_type": "code",
   "execution_count": null,
   "metadata": {},
   "outputs": [],
   "source": []
  }
 ],
 "metadata": {
  "kernelspec": {
   "display_name": "mm_env",
   "language": "python",
   "name": "mm_env"
  },
  "language_info": {
   "codemirror_mode": {
    "name": "ipython",
    "version": 3
   },
   "file_extension": ".py",
   "mimetype": "text/x-python",
   "name": "python",
   "nbconvert_exporter": "python",
   "pygments_lexer": "ipython3",
   "version": "3.7.3"
  }
 },
 "nbformat": 4,
 "nbformat_minor": 4
}
