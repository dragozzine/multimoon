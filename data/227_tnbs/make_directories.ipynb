{
 "cells": [
  {
   "cell_type": "code",
   "execution_count": 5,
   "metadata": {},
   "outputs": [],
   "source": [
    "import numpy as np\n",
    "import pandas as pd\n",
    "import os\n",
    "from csv import writer\n",
    "\n",
    "def build_folder():\n",
    "    \n",
    "    astrometry = pd.read_csv('data_dump_astrometry_2020-09-26.csv')\n",
    "    orbit_props = pd.read_csv('grundy_orbit_props_9.26.2020.csv')\n",
    "    \n",
    "    \n",
    "\n",
    "    for i in range(len(orbit_props['designation'])):\n",
    "        objectname = orbit_props['designation'].iloc[i]\n",
    "        if not os.path.isdir(objectname):\n",
    "            os.mkdir(objectname)\n",
    "            with open(objectname+'/'+objectname+'_astrometry.csv', 'a+', newline='') as write_obj:\n",
    "                csv_writer = writer(write_obj, delimiter = ',')\n",
    "                thelist = []\n",
    "                for col in astrometry.columns:\n",
    "                    thelist.append(col)\n",
    "                csv_writer.writerow(thelist)\n",
    "                \n",
    "            with open(objectname+'/'+objectname+'_orbit_props.csv', 'a+', newline='') as write_obj:\n",
    "                csv_writer = writer(write_obj, delimiter = ',')\n",
    "                thelist = []\n",
    "                for col in orbit_props.columns:\n",
    "                    thelist.append(col)\n",
    "                csv_writer.writerow(thelist)"
   ]
  },
  {
   "cell_type": "code",
   "execution_count": 6,
   "metadata": {},
   "outputs": [],
   "source": [
    "build_folder()"
   ]
  },
  {
   "cell_type": "code",
   "execution_count": null,
   "metadata": {},
   "outputs": [],
   "source": []
  }
 ],
 "metadata": {
  "kernelspec": {
   "display_name": "mm_env",
   "language": "python",
   "name": "mm_env"
  },
  "language_info": {
   "codemirror_mode": {
    "name": "ipython",
    "version": 3
   },
   "file_extension": ".py",
   "mimetype": "text/x-python",
   "name": "python",
   "nbconvert_exporter": "python",
   "pygments_lexer": "ipython3",
   "version": "3.7.3"
  }
 },
 "nbformat": 4,
 "nbformat_minor": 4
}
