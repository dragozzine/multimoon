{
 "cells": [
  {
   "cell_type": "code",
   "execution_count": 68,
   "metadata": {},
   "outputs": [],
   "source": [
    "import numpy as np\n",
    "import pandas as pd\n",
    "\n",
    "def clean_files(filename):\n",
    "    \n",
    "    astrometry = pd.read_csv(filename+'/'+filename+'_astrometry.csv')\n",
    "    orbit_props = pd.read_csv(filename+'/'+filename+'_orbit_props.csv')\n",
    "    \n",
    "    #print(astrometry)\n",
    "    \n",
    "    astrometry = astrometry.drop(columns=['number','designation'])\n",
    "    orbit_props = orbit_props.drop(columns=['name','designation'])\n",
    "\n",
    "    \n",
    "    astrometry.columns = ['time','dist','RA-Primary','DEC-Primary','Delta-RA','Delta-RA-err','Delta-DEC','Delta-DEC-err']\n",
    "    \n",
    "\n",
    "    init_guess = pd.DataFrame(columns = ['epoch','period_1','sma_2','ecc_2','inc_2','long_epoch_2','lan_2','pomega_2','mass_tot','diam_1','diam_2'], index = ['mean','stddev'])\n",
    "    \n",
    "    init_guess['epoch']['mean'] = orbit_props['epoch_jd'].iloc[0]\n",
    "    init_guess['period_1']['mean'],init_guess['period_1']['stddev'] = orbit_props['period'].iloc[0] ,orbit_props['period_err'].iloc[0]\n",
    "    init_guess['sma_2']['mean'],init_guess['sma_2']['stddev'] = orbit_props['a'].iloc[0] ,orbit_props['a_err'].iloc[0]\n",
    "    init_guess['ecc_2']['mean'],init_guess['ecc_2']['stddev'] = orbit_props['e'].iloc[0] ,orbit_props['e_err'].iloc[0]\n",
    "    init_guess['inc_2']['mean'],init_guess['inc_2']['stddev'] = orbit_props['i'].iloc[0] ,orbit_props['i_err'].iloc[0]\n",
    "    init_guess['long_epoch_2']['mean'],init_guess['long_epoch_2']['stddev'] = orbit_props['long_epoch'].iloc[0] ,orbit_props['long_epoch_err'].iloc[0]\n",
    "    init_guess['lan_2']['mean'],init_guess['lan_2']['stddev'] = orbit_props['lan'].iloc[0] ,orbit_props['lan_err'].iloc[0]\n",
    "    init_guess['pomega_2']['mean'],init_guess['pomega_2']['stddev'] = orbit_props['pomega'].iloc[0] ,orbit_props['pomega_err'].iloc[0]\n",
    "    init_guess['mass_tot']['mean'],init_guess['mass_tot']['stddev'] = orbit_props['mass_tot'].iloc[0] ,orbit_props['mass_tot_err'].iloc[0]\n",
    "    init_guess['diam_1']['mean'] = orbit_props['diam_1'].iloc[0]\n",
    "    init_guess['diam_2']['mean'] = orbit_props['diam_2'].iloc[0]\n",
    "\n",
    "    #print(init_guess.transpose())\n",
    "    init_guess = init_guess.transpose()\n",
    "    \n",
    "    astrometry.to_csv(filename+'/'+filename+'_astrometry.csv')\n",
    "    init_guess.to_csv(filename+'/'+filename+'_init_guess.csv')"
   ]
  },
  {
   "cell_type": "code",
   "execution_count": 104,
   "metadata": {},
   "outputs": [],
   "source": [
    "clean_files('2007 UK126')"
   ]
  },
  {
   "cell_type": "code",
   "execution_count": null,
   "metadata": {},
   "outputs": [],
   "source": [
    "def "
   ]
  }
 ],
 "metadata": {
  "kernelspec": {
   "display_name": "mm_env",
   "language": "python",
   "name": "mm_env"
  },
  "language_info": {
   "codemirror_mode": {
    "name": "ipython",
    "version": 3
   },
   "file_extension": ".py",
   "mimetype": "text/x-python",
   "name": "python",
   "nbconvert_exporter": "python",
   "pygments_lexer": "ipython3",
   "version": "3.7.3"
  }
 },
 "nbformat": 4,
 "nbformat_minor": 4
}
