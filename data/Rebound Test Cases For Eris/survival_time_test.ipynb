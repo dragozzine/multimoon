{
 "cells": [
  {
   "cell_type": "code",
   "execution_count": 34,
   "metadata": {},
   "outputs": [
    {
     "name": "stdout",
     "output_type": "stream",
     "text": [
      "0.529936957083957 0.6570366235054511\n",
      "1.8870169114126751 1.5219851743800146\n",
      "1957.1268444147777\n"
     ]
    }
   ],
   "source": [
    "from survivalTime import *\n",
    "import rebound\n",
    "import numpy as np\n",
    "\n",
    "\n",
    "sim = rebound.Simulation()\n",
    "sim.add(m=.93)\n",
    "sim.add(m=.000781, a=.242327, e=0.03, l=0.3)\n",
    "sim.add(m=.001494, a=.370241, e=0.03, l=2.8)\n",
    "sim.add(m=.000674, a=.49, e=0.03, l=-0.5)\n",
    "\n",
    "p1 = sim.particles[1].P\n",
    "p2 = sim.particles[2].P\n",
    "p3 = sim.particles[3].P\n",
    "\n",
    "nu12 = p1/p2\n",
    "nu23 = p2/p3\n",
    "\n",
    "mstar = .93\n",
    "mass1 = sim.particles[1].m\n",
    "mass2 = sim.particles[2].m\n",
    "mass3 = sim.particles[3].m\n",
    "\n",
    "masses = [mass1,mass2,mass3]\n",
    "\n",
    "print(nu12,nu23)\n",
    "print(1/nu12,1/nu23)\n",
    "print(Tsurv(nu12,nu23,masses,m0=.93,fudge=1,res=False))\n",
    "\n",
    "\n",
    "\n"
   ]
  },
  {
   "cell_type": "code",
   "execution_count": null,
   "metadata": {},
   "outputs": [],
   "source": []
  }
 ],
 "metadata": {
  "kernelspec": {
   "display_name": "Python 3",
   "language": "python",
   "name": "python3"
  },
  "language_info": {
   "codemirror_mode": {
    "name": "ipython",
    "version": 3
   },
   "file_extension": ".py",
   "mimetype": "text/x-python",
   "name": "python",
   "nbconvert_exporter": "python",
   "pygments_lexer": "ipython3",
   "version": "3.7.3"
  }
 },
 "nbformat": 4,
 "nbformat_minor": 4
}
