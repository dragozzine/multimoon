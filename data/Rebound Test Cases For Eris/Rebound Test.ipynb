{
 "cells": [
  {
   "cell_type": "code",
   "execution_count": 1,
   "metadata": {},
   "outputs": [
    {
     "name": "stdout",
     "output_type": "stream",
     "text": [
      "1.0 0 0\n",
      "1.0 1 0\n",
      "1.0 2 0\n",
      "1.0 0 1\n",
      "1.0 1 1\n",
      "1.0 2 1\n",
      "0.0 0 2\n",
      "0.0 1 2\n",
      "1.0 2 2\n"
     ]
    },
    {
     "data": {
      "image/png": "[encoded data removed]",
      "text/plain": [
       "<Figure size 360x360 with 1 Axes>"
      ]
     },
     "metadata": {
      "needs_background": "light"
     },
     "output_type": "display_data"
    },
    {
     "data": {
      "image/png": "[encoded data removed]",
      "text/plain": [
       "<Figure size 360x360 with 1 Axes>"
      ]
     },
     "metadata": {
      "needs_background": "light"
     },
     "output_type": "display_data"
    },
    {
     "data": {
      "image/png": "[encoded data removed]",
      "text/plain": [
       "<Figure size 360x360 with 1 Axes>"
      ]
     },
     "metadata": {
      "needs_background": "light"
     },
     "output_type": "display_data"
    },
    {
     "data": {
      "image/png": "[encoded data removed]",
      "text/plain": [
       "<Figure size 360x360 with 1 Axes>"
      ]
     },
     "metadata": {
      "needs_background": "light"
     },
     "output_type": "display_data"
    },
    {
     "data": {
      "image/png": "[encoded data removed]",
      "text/plain": [
       "<Figure size 360x360 with 1 Axes>"
      ]
     },
     "metadata": {
      "needs_background": "light"
     },
     "output_type": "display_data"
    },
    {
     "data": {
      "image/png": "[encoded data removed]",
      "text/plain": [
       "<Figure size 360x360 with 1 Axes>"
      ]
     },
     "metadata": {
      "needs_background": "light"
     },
     "output_type": "display_data"
    },
    {
     "data": {
      "image/png": "[encoded data removed]",
      "text/plain": [
       "<Figure size 360x360 with 1 Axes>"
      ]
     },
     "metadata": {
      "needs_background": "light"
     },
     "output_type": "display_data"
    },
    {
     "data": {
      "image/png": "[encoded data removed]",
      "text/plain": [
       "<Figure size 360x360 with 1 Axes>"
      ]
     },
     "metadata": {
      "needs_background": "light"
     },
     "output_type": "display_data"
    },
    {
     "data": {
      "image/png": "[encoded data removed]",
      "text/plain": [
       "<Figure size 360x360 with 1 Axes>"
      ]
     },
     "metadata": {
      "needs_background": "light"
     },
     "output_type": "display_data"
    }
   ],
   "source": [
    "import numpy as np\n",
    "import rebound\n",
    "import matplotlib.pyplot as plt\n",
    "\n",
    "ErisData = [1.6, 0.1163]\n",
    "\n",
    "run_num = 100\n",
    "sims = np.zeros((run_num,run_num))\n",
    "color_map = np.zeros((run_num,run_num))\n",
    "a_array = np.linspace(1.0,3.0,num=run_num, endpoint=True)\n",
    "m_array = np.geomspace(1e-4,1e-2,num=run_num, endpoint=True)\n",
    "for j in range(run_num):\n",
    "    for k in range(run_num):\n",
    "        sim = rebound.Simulation()\n",
    "        sim.add(m=ErisData[0])\n",
    "        a_num = a_array[j]\n",
    "        m_num = m_array[k]\n",
    "        sim.add(m = m_num, r = 0.0260, a = a_num, e = 0.243, inc = 33.961, Omega = 134.664, omega = 114, M = 210)\n",
    "        sim.add(m = 2.65e-2, r = 0.0350, a = 3.7250, e = 0.006, inc = 62.097, Omega = 139.16, omega = 200, M = 137.277)\n",
    "\n",
    "        sim.move_to_com()\n",
    "#sim.status()\n",
    "        rebound.OrbitPlot(sim)\n",
    "        Noutputs = 100\n",
    "\n",
    "        year = 2.*np.pi # One year in units where G=1\n",
    "        times = np.linspace(0.,10000.*year, Noutputs)\n",
    "        x = np.zeros((2,Noutputs))\n",
    "        y = np.zeros((2,Noutputs))\n",
    "\n",
    "        sim.integrator = \"ias15\" # IAS15 is the default integrator, so we actually don't need this line\n",
    "        sim.move_to_com()        # We always move to the center of momentum frame before an integration\n",
    "        ps = sim.particles       # ps is now an array of pointers and will change as the simulation runs\n",
    "\n",
    "        for i,time in enumerate(times):\n",
    "            sim.integrate(time)\n",
    "            x[0][i] = ps[1].x   # This stores the data which allows us to plot it later\n",
    "            y[0][i] = ps[1].y\n",
    "            x[1][i] = ps[2].x\n",
    "            y[1][i] = ps[2].y\n",
    "    \n",
    "        #fig = plt.figure(figsize=(5,5))\n",
    "        ax = plt.subplot(run_num+1,run_num+1,j+k+1)\n",
    "        ax.set_xlim([-10,10])\n",
    "        ax.set_ylim([-10,10])\n",
    "#print(x[0],y[0],x[1],y[1])\n",
    "        plt.plot(x[0], y[0]);\n",
    "        plt.plot(x[1], y[1]);\n",
    "        \n",
    "        dist_arr = np.sqrt(x**2+y**2)\n",
    "        max_dist = np.argmax(dist_arr)\n",
    "        min_dist = np.argmin(dist_arr)\n",
    "        \n",
    "        delta_a = (max_dist-a_num)/a_num# - (a_num-min_dist)/a_num\n",
    "        color_map[k][j] = delta_a\n",
    "        if np.sqrt(x[0][-1]**2+y[0][-1]**2) > 20.0:\n",
    "            sims[k][j] = False\n",
    "        elif np.sqrt(x[1][-1]**2+y[1][-1]**2) > 20.0:\n",
    "            sims[k][j] = False\n",
    "        else:\n",
    "            sims[k][j] = True\n",
    "        print(sims[k][j], k, j)\n",
    "\n",
    "np.savetxt('sims.txt',sims)\n",
    "np.savetxt('color.txt', color_map)"
   ]
  },
  {
   "cell_type": "code",
   "execution_count": 3,
   "metadata": {},
   "outputs": [
    {
     "data": {
      "image/png": "[encoded data removed]",
      "text/plain": [
       "<Figure size 432x288 with 1 Axes>"
      ]
     },
     "metadata": {
      "needs_background": "light"
     },
     "output_type": "display_data"
    },
    {
     "data": {
      "image/png": "[encoded data removed]",
      "text/plain": [
       "<Figure size 432x288 with 1 Axes>"
      ]
     },
     "metadata": {
      "needs_background": "light"
     },
     "output_type": "display_data"
    }
   ],
   "source": [
    "plt.imshow(np.flip(sims,axis=0), cmap='binary',extent=[1.0,3.0,18,20])\n",
    "plt.xlabel('Kilometers (in 10,000)')\n",
    "plt.ylabel('Mass (1.6e_) kg')\n",
    "plt.title('Stability True/False')\n",
    "plt.show()\n",
    "\n",
    "plt.imshow(np.flip(color_map,axis=0), extent=[1.0,3.0,18,20])\n",
    "plt.xlabel('SMA 1e4 km')\n",
    "plt.ylabel('Log10 Mass kg')\n",
    "plt.title('Delta_a')\n",
    "plt.show()"
   ]
  },
  {
   "cell_type": "code",
   "execution_count": 2,
   "metadata": {},
   "outputs": [
    {
     "data": {
      "text/plain": [
       "Text(0, 0.5, 'Log10 Mass kg')"
      ]
     },
     "execution_count": 2,
     "metadata": {},
     "output_type": "execute_result"
    },
    {
     "data": {
      "image/png": "[encoded data removed]",
      "text/plain": [
       "<Figure size 432x288 with 1 Axes>"
      ]
     },
     "metadata": {
      "needs_background": "light"
     },
     "output_type": "display_data"
    }
   ],
   "source": [
    "run_num = 100\n",
    "a_array = np.linspace(10000,30000,num=run_num, endpoint=True)\n",
    "m_array = np.geomspace(1.6e18,1.6e20,num=run_num, endpoint=True)\n",
    "e_herc = 0.01\n",
    "e_dys = 0.01\n",
    "M_eris = 1.6e22\n",
    "M_dys = 1.6e20\n",
    "mhill_map = np.zeros((run_num,run_num))\n",
    "sma_dys = 37211\n",
    "\n",
    "for i in range(len(a_array)):\n",
    "    sma_herc = a_array[i]\n",
    "    for j in range(len(m_array)):\n",
    "        m_herc = m_array[j]\n",
    "        mhill = (sma_dys*(1-e_dys)-sma_herc*(e_dys+1))/(((M_dys/M_eris+m_herc/M_eris)/3)**(1/3)*0.5*(sma_herc+sma_dys))\n",
    "        if mhill < 3.5:\n",
    "            mhill_map[j][i] = False\n",
    "        else:\n",
    "            mhill_map[j][i] = True\n",
    "            \n",
    "#print(mhill_map)\n",
    "plt.imshow(mhill_map, cmap='binary',extent=[1.0,3.0,18,20])\n",
    "plt.xlabel('Kilometers (1e4 km)')\n",
    "plt.ylabel('Log10 Mass kg')"
   ]
  },
  {
   "cell_type": "code",
   "execution_count": 4,
   "metadata": {},
   "outputs": [
    {
     "name": "stdout",
     "output_type": "stream",
     "text": [
      "0.5927312672697942 1.995452387097637 2.3503476371981638 3.6664131596644878\n"
     ]
    }
   ],
   "source": [
    "print(33.961/180*np.pi,114.331/180*np.pi,134.665/180*np.pi,210.070/180*np.pi)"
   ]
  },
  {
   "cell_type": "code",
   "execution_count": 6,
   "metadata": {},
   "outputs": [
    {
     "name": "stdout",
     "output_type": "stream",
     "text": [
      "1.0837971056109188 3.4998214825616296 2.4289572667079886 2.3959356372602554\n"
     ]
    }
   ],
   "source": [
    "print(62.097/180*np.pi,200.525/180*np.pi,139.169/180*np.pi,137.277/180*np.pi)"
   ]
  },
  {
   "cell_type": "code",
   "execution_count": null,
   "metadata": {},
   "outputs": [],
   "source": []
  }
 ],
 "metadata": {
  "kernelspec": {
   "display_name": "mm_env",
   "language": "python",
   "name": "mm_env"
  },
  "language_info": {
   "codemirror_mode": {
    "name": "ipython",
    "version": 3
   },
   "file_extension": ".py",
   "mimetype": "text/x-python",
   "name": "python",
   "nbconvert_exporter": "python",
   "pygments_lexer": "ipython3",
   "version": "3.7.3"
  }
 },
 "nbformat": 4,
 "nbformat_minor": 4
}
