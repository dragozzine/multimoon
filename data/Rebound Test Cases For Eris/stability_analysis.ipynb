{
 "cells": [
  {
   "cell_type": "code",
   "execution_count": 34,
   "metadata": {},
   "outputs": [
    {
     "name": "stdout",
     "output_type": "stream",
     "text": [
      "0\n"
     ]
    },
    {
     "data": {
      "image/png": "[encoded data removed]",
      "text/plain": [
       "<Figure size 360x360 with 1 Axes>"
      ]
     },
     "metadata": {
      "needs_background": "light"
     },
     "output_type": "display_data"
    }
   ],
   "source": [
    "from spock import FeatureClassifier\n",
    "import rebound\n",
    "import math\n",
    "import numpy as np\n",
    "starData = [1.1, 1.52]\n",
    "feature_model = FeatureClassifier()\n",
    "sim = rebound.Simulation()\n",
    "sim.add(m=starData[0])\n",
    "\n",
    "sim.add(m = 4.97e-6, r = .011487, a = .073127, e = .131461, inc = .143639, Omega = 4.270226, omega = .086899, M = 1.024758)\n",
    "sim.add(m = 1.56e-5, r = .020517, a = .110634, e = .234651, inc = .037356, Omega = 3.301407, omega = 3.943074, M = 2.492365)\n",
    "sim.add(m = 6.89e-6, r = .013821, a = .217526, e = .037377, inc = .045645, Omega = .363677, omega = 3.453097, M = 5.615575)\n",
    "\n",
    "#sim.add(m = 4.97e-6, r = .011487, a = .073127, e = .0, inc = .143639, Omega = 4.270226, omega = .086899, M = 1.024758)\n",
    "#sim.add(m = 1.56e-5, r = .020517, a = .110634, e = .0, inc = .037356, Omega = 3.301407, omega = 3.943074, M = 2.492365)\n",
    "#sim.add(m = 6.89e-6, r = .013821, a = .217526, e = .037377, inc = .045645, Omega = .363677, omega = 3.453097, M = 5.615575)\n",
    "\n",
    "\n",
    "sim.move_to_com()\n",
    "#sim.status()\n",
    "rebound.OrbitPlot(sim)\n",
    "print(feature_model.predict_stable(sim))"
   ]
  },
  {
   "cell_type": "code",
   "execution_count": 35,
   "metadata": {},
   "outputs": [],
   "source": [
    "def petrovitchMetric(sim):\n",
    "    MetricSim=sim\n",
    "    metrics = []\n",
    "    l=MetricSim.N\n",
    "    for n in range(l-2):\n",
    "        a1=MetricSim.particles[n+1].calculate_orbit(sim.particles[0]).a\n",
    "        a2=MetricSim.particles[n+2].calculate_orbit(sim.particles[0]).a\n",
    "        e1=MetricSim.particles[n+1].calculate_orbit(sim.particles[0]).e\n",
    "        e2=MetricSim.particles[n+2].calculate_orbit(sim.particles[0]).e\n",
    "        mu1=MetricSim.particles[n+1].m/MetricSim.particles[0].m\n",
    "        mu2=MetricSim.particles[n+2].m/MetricSim.particles[0].m\n",
    "        mu=max(mu1,mu2)\n",
    "        metricn=((a2*(1-e2))/(a1*(1+e1))/(2.4*(mu**(1/3))*((a2/a1)**(1/2))+1.15))\n",
    "        metrics.append(metricn)\n",
    "    \n",
    "    minMetric = min(metrics)\n",
    "    planet = metrics.index(minMetric) + 1\n",
    "    \n",
    "    return minMetric,planet\n",
    "## The higher the returned value the more stable the system however values below 1 are determined to be unstable by this metric\n",
    "\n",
    "def HLMetric(sim):\n",
    "    MetricSim=sim\n",
    "    metric= 0\n",
    "    planet=0\n",
    "    l=MetricSim.N\n",
    "    for n in range(l-2):\n",
    "        a1=MetricSim.particles[n+1].calculate_orbit(sim.particles[0]).a\n",
    "        a2=MetricSim.particles[n+2].calculate_orbit(sim.particles[0]).a\n",
    "        e1=MetricSim.particles[n+1].calculate_orbit(sim.particles[0]).e\n",
    "        e2=MetricSim.particles[n+2].calculate_orbit(sim.particles[0]).e\n",
    "        mu1=MetricSim.particles[n+1].m/MetricSim.particles[0].m\n",
    "        mu2=MetricSim.particles[n+2].m/MetricSim.particles[0].m\n",
    "        ecross= (a2-a1)/a1\n",
    "        ecrit=ecross/(2**(1/2))*math.exp(-2.2*((mu1+mu2)**(1/3))*((a2/(a2-a1))**(4/3)))\n",
    "        \n",
    "        #Calculate the ratio of the planet's eccentricity to the critical eccentricity\n",
    "        metricn = e1/ecrit\n",
    "        metricnp1 = e2/ecrit\n",
    "        \n",
    "        #Return the planet with the highest ratio which will be the most unstable of the system\n",
    "        if max(metricn,metricnp1) > metric:\n",
    "            metric = max(metricn,metricnp1)\n",
    "            if metric == metricn:\n",
    "                planet = n+1 #Ensure that 1 identifies the innermost planet, not 0\n",
    "            else:\n",
    "                planet = n+2\n",
    "        \n",
    "    return metric,planet\n",
    "\n"
   ]
  },
  {
   "cell_type": "code",
   "execution_count": 36,
   "metadata": {},
   "outputs": [
    {
     "name": "stdout",
     "output_type": "stream",
     "text": [
      "(0.837825306304547, 1)\n",
      "(0.828294212235921, 2)\n"
     ]
    }
   ],
   "source": [
    "print(petrovitchMetric(sim))\n",
    "print(HLMetric(sim))"
   ]
  }
 ],
 "metadata": {
  "kernelspec": {
   "display_name": "Python 3",
   "language": "python",
   "name": "python3"
  },
  "language_info": {
   "codemirror_mode": {
    "name": "ipython",
    "version": 3
   },
   "file_extension": ".py",
   "mimetype": "text/x-python",
   "name": "python",
   "nbconvert_exporter": "python",
   "pygments_lexer": "ipython3",
   "version": "3.7.3"
  }
 },
 "nbformat": 4,
 "nbformat_minor": 4
}
