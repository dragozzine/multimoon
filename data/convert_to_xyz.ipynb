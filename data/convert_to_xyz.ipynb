{
 "cells": [
  {
   "cell_type": "code",
   "execution_count": 1,
   "metadata": {},
   "outputs": [
    {
     "name": "stdout",
     "output_type": "stream",
     "text": [
      "gzip was not found on your system! You should solve this issue for astroquery.eso to be at its best!\n",
      "On POSIX system: make sure gzip is installed and in your path!On Windows: same for 7-zip (http://www.7-zip.org)!\n"
     ]
    }
   ],
   "source": [
    "import numpy as np\n",
    "import pandas as pd\n",
    "from astroquery.jplhorizons import Horizons\n",
    "\n",
    "def convert_to_xyz(objname, fileName):\n",
    "    \n",
    "    latlondf = pd.read_csv(fileName)\n",
    "    \n",
    "    time = latlondf['time']\n",
    "    \n",
    "    dateList =[]\n",
    "    for i in time:\n",
    "        jd = Time(i,format='jd')\n",
    "        dateList.append(jd)\n",
    "    \n",
    "    lat1 = latlondf['Lat1']\n",
    "    lon1 = latlondf['Lon1']\n",
    "    dlat2 = latlondf['dLat2']\n",
    "    dlon2 = latlondf['dLon2']\n",
    "    dlat3 = latlondf['dLat3']\n",
    "    dlon3 = latlondf['dLon3']\n",
    "    \n",
    "    lat2 = lat1+dlat2\n",
    "    lon2 = dlon2/np.cos(lat1)+lon1\n",
    "    lat3 =lat1+dlat3\n",
    "    lon3 = dlon3/np.cos(lat1)+lon1\n",
    "    \n",
    "    KBO = Horizons(id=objname,location='500@10', epochs = dateList)\n",
    "    \n",
    "    dist = KBO.vectors()['range']\n",
    "    \n",
    "    x1 = dist*np.cos(lat1)*np.cos(lon1)\n",
    "    y1 = dist*np.cos(lat1)*np.sin(lon1)\n",
    "    z1 = dist*np.sin(lat1)\n",
    "    \n",
    "    x2 = dist*np.cos(lat2)*np.cos(lon2)\n",
    "    y2 = dist*np.cos(lat2)*np.sin(lon2)\n",
    "    z2 = dist*np.sin(lat2)\n",
    "    \n",
    "    x3 = dist*np.cos(lat3)*np.cos(lon3)\n",
    "    y3 = dist*np.cos(lat3)*np.sin(lon3)\n",
    "    z3 = dist*np.sin(lat3)\n",
    "    \n",
    "    xyzdf = pd.DataFrame()\n",
    "    xyzdf['time'] = time\n",
    "    xyzdf['x1'] = x1\n",
    "    xyzdf['y1'] = y1\n",
    "    xyzdf['z1'] = z1\n",
    "    xyzdf['x2'] = x2\n",
    "    xyzdf['y2'] = y2\n",
    "    xyzdf['z2'] = z2\n",
    "    xyzdf['x3'] = x3\n",
    "    xyzdf['y3'] = y3\n",
    "    xyzdf['z3'] = z3\n",
    "    \n",
    "    print(xyzdf)    "
   ]
  },
  {
   "cell_type": "code",
   "execution_count": null,
   "metadata": {},
   "outputs": [],
   "source": []
  }
 ],
 "metadata": {
  "kernelspec": {
   "display_name": "Python 3",
   "language": "python",
   "name": "python3"
  },
  "language_info": {
   "codemirror_mode": {
    "name": "ipython",
    "version": 3
   },
   "file_extension": ".py",
   "mimetype": "text/x-python",
   "name": "python",
   "nbconvert_exporter": "python",
   "pygments_lexer": "ipython3",
   "version": "3.7.4"
  }
 },
 "nbformat": 4,
 "nbformat_minor": 2
}
