{
 "cells": [
  {
   "cell_type": "code",
   "execution_count": 3,
   "metadata": {},
   "outputs": [],
   "source": [
    "import numpy as np\n",
    "import pandas as pd\n",
    "from astroquery.jplhorizons import Horizons\n",
    "\n",
    "def build_xyz_df(objname):\n",
    "    \n",
    "    KBO = Horizons(id=objname,location='500@0',epochs={'start':'2000-01-01','stop':'2040-01-01','step':'10d'})\n",
    "    \n",
    "    geotime = KBO.ephemerides()['datetime_jd']\n",
    "    light_time = KBO.ephemerides()['lighttime']\n",
    "    kbotime = geotime-light_time\n",
    "    \n",
    "    x = KBO.vectors()['x']\n",
    "    y = KBO.vectors()['y']\n",
    "    z = KBO.vectors()['z']\n",
    "    \n",
    "    xyz_df = pd.DataFrame()\n",
    "    \n",
    "    xyz_df['kbo_time'] = kbotime\n",
    "    xyz_df['x'] = x\n",
    "    xyz_df['y'] = y\n",
    "    xyz_df['z'] = z\n",
    "    print(xyz_df)"
   ]
  },
  {
   "cell_type": "code",
   "execution_count": 4,
   "metadata": {},
   "outputs": [
    {
     "name": "stdout",
     "output_type": "stream",
     "text": [
      "          kbo_time          x          y         z\n",
      "0     2.451281e+06  31.244682  -1.847355 -4.552530\n",
      "1     2.451291e+06  31.242889  -1.813908 -4.552880\n",
      "2     2.451302e+06  31.241068  -1.780460 -4.553225\n",
      "3     2.451312e+06  31.239216  -1.747011 -4.553566\n",
      "4     2.451322e+06  31.237336  -1.713559 -4.553903\n",
      "...            ...        ...        ...       ...\n",
      "1457  2.465839e+06   1.738659  33.071589 -0.860144\n",
      "1458  2.465849e+06   1.707525  33.078497 -0.855699\n",
      "1459  2.465859e+06   1.676390  33.085378 -0.851254\n",
      "1460  2.465869e+06   1.645253  33.092232 -0.846808\n",
      "1461  2.465879e+06   1.614115  33.099059 -0.842361\n",
      "\n",
      "[1462 rows x 4 columns]\n"
     ]
    }
   ],
   "source": [
    "build_xyz_df('Lempo')"
   ]
  },
  {
   "cell_type": "code",
   "execution_count": null,
   "metadata": {},
   "outputs": [],
   "source": []
  }
 ],
 "metadata": {
  "kernelspec": {
   "display_name": "Python 3",
   "language": "python",
   "name": "python3"
  },
  "language_info": {
   "codemirror_mode": {
    "name": "ipython",
    "version": 3
   },
   "file_extension": ".py",
   "mimetype": "text/x-python",
   "name": "python",
   "nbconvert_exporter": "python",
   "pygments_lexer": "ipython3",
   "version": "3.7.4"
  }
 },
 "nbformat": 4,
 "nbformat_minor": 2
}
