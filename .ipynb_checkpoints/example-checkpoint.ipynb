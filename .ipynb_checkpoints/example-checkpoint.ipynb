{
 "cells": [
  {
   "cell_type": "code",
   "execution_count": null,
   "metadata": {},
   "outputs": [],
   "source": [
    "# How to run MultiMoon code for now"
   ]
  },
  {
   "cell_type": "code",
   "execution_count": 4,
   "metadata": {},
   "outputs": [
    {
     "name": "stdout",
     "output_type": "stream",
     "text": [
      "{'mm_initguess_which': 'get_init_guess_from_dist', 'nthinning': 100, 'MultiMoon commit hash': 'autogenerate', 'time': 'now', 'objectname': 'Haumea', 'RunGoal': 'user puts their goal for this run here', 'nwalkers': 30, 'date': 'today', 'user': 'autogenerate', 'nsteps': 1001, 'numobjects': 3}\n"
     ]
    }
   ],
   "source": [
    "import sys\n",
    "sys.path.append('./src')\n",
    "# or whatever directory your MultiMoon \"src\" directory is\n",
    "\n",
    "# then you can import individual files and functions. Example:\n",
    "\n",
    "import testsupport\n",
    "out=testsupport.test_runprops()\n",
    "\n",
    "print(out)\n"
   ]
  },
  {
   "cell_type": "code",
   "execution_count": null,
   "metadata": {},
   "outputs": [],
   "source": []
  }
 ],
 "metadata": {
  "kernelspec": {
   "display_name": "Python 3",
   "language": "python",
   "name": "python3"
  },
  "language_info": {
   "codemirror_mode": {
    "name": "ipython",
    "version": 3
   },
   "file_extension": ".py",
   "mimetype": "text/x-python",
   "name": "python",
   "nbconvert_exporter": "python",
   "pygments_lexer": "ipython3",
   "version": "3.4.2"
  }
 },
 "nbformat": 4,
 "nbformat_minor": 2
}
